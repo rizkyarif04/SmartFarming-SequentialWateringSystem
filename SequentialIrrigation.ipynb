{
 "cells": [
  {
   "cell_type": "code",
   "execution_count": null,
   "metadata": {
    "ExecuteTime": {
     "end_time": "2022-12-07T06:19:32.671102Z",
     "start_time": "2022-12-07T06:19:32.653342Z"
    }
   },
   "outputs": [],
   "source": [
    "import numpy as np\n",
    "import pandas as pd\n",
    "import requests\n",
    "import json\n",
    "import time\n",
    "import datetime\n",
    "from functools import reduce\n",
    "#from tabulate import tabulate"
   ]
  },
  {
   "cell_type": "code",
   "execution_count": null,
   "metadata": {
    "ExecuteTime": {
     "end_time": "2022-12-07T06:19:33.142959Z",
     "start_time": "2022-12-07T06:19:33.124343Z"
    }
   },
   "outputs": [],
   "source": [
    "url = 'https://api.smartfarmingunpad.com'\n",
    "hed = 'X-DEVACCOUNT-TOKEN'\n",
    "token = 'banknJS8Qc0B3TL6vUBxL6GTkfLjBn5PIzlA9mIsGTiDPN66gpeWsXNStN8hQifepB7mFpJdjhFUL1gtEck56qOhhB8PAOOLFMVC8XGMvhHCYYux7nmpsC3yUTpJc1Wc'\n",
    "headers = {\n",
    "    hed : token\n",
    "}\n",
    "\n",
    "data = {\n",
    "    'email':'smartfarmingunpad@gmail.com',\n",
    "    'password':'smartfarmingunpad1199'\n",
    "}\n",
    "\n",
    "dataset_name = ['Dataset sub lokasi 1','Dataset sub lokasi 2','Dataset sub lokasi 3']\n",
    "\n",
    "dev = [2,4,5]\n",
    "#for i in range (18):\n",
    "    #dev.append(i+4)"
   ]
  },
  {
   "cell_type": "code",
   "execution_count": null,
   "metadata": {
    "ExecuteTime": {
     "end_time": "2022-11-27T07:18:58.091686Z",
     "start_time": "2022-11-27T07:18:58.023689Z"
    }
   },
   "outputs": [],
   "source": [
    "lin = 'lin'\n",
    "log = 'log'\n",
    "exp = 'exp'\n",
    "his = 'his'\n",
    "cal_type = [his, his, his, lin, log, log, log, log, log, log, log, log, log, \n",
    "            log, lin, his, his, his, lin, log, log, his, his, his, log, exp, exp, log, log, exp, lin, log, lin, log, log,\n",
    "            exp, lin, log, lin, lin, lin, lin, his, his, his, log, log, lin, his, his, his, lin, lin, lin]\n",
    "\n",
    "cal_arr = [ [-6.031*10**(-5), 0.09936, -54.833, 10185], [-9.979*10**(-5), 0.14016, -65.728, 10348], [-0.0001169, 0.17363, -86.133, 14326],\n",
    "          [-0.00012584, 0.19718, -102.76, 17875], [-7.1779*10**(-5), 0.10767, -53.997, 9113.9], [-9.695*10**(-5), 0.15145, -78.884, 13763],\n",
    "          [0.001715, -2.3108, 794.83], [9.8895*10**(-6), -0.013, 4.8927, -374.41], [0.0019254, -2.5464, 858.8],\n",
    "          [-0.774, 5.263], [-0.779, 5.2887], [-0.721, 4.9524],\n",
    "          [-0.845, 6.0386], [-0.827, 5.8775], [-0.0013, 1.4632],\n",
    "          [1.89*10**(-7), -5.91*10**(-5), -0.3101, 214.9], [6.39*10**(-7), -6.46*10**(-4), -0.07867, 177.3], [-8.84*10**(-7), 0.001886, -1.438, 441.2],\n",
    "          [-0.0016, 1.6], [-0.81, 5.8142], [-0.864, 6.1823],\n",
    "          [-2.27*10**(-7), 0.0005634, -0.5033, 185.7], [1.22*10**(-7), -3.77*10**(-5), -0.2126, 163.3], [-1.44*10**(-7), 0.0004695, -0.4808, 187.1],\n",
    "          [-1.661, 11.424], [-0.004, 8.2], [-0.003, 4.4925],\n",
    "          [-0.845, 5.7603], [-1.13, 7.5086], [-0.003, 2.8792],\n",
    "          [-0.0019, 1.5474], [-0.882, 6.1847], [-0.002, 1.5837],\n",
    "          [-0.801, 5.4587], [-0.799, 5.4545], [-0.004, 3.4],\n",
    "          [-0.0016, 1.4236], [-0.726, 5.1502], [-0.0014, 1.35],\n",
    "          [-0.0016, 1.4713], [-0.0017, 1.53], [-0.0015, 1.4377],\n",
    "          [-2.701*10**(-7), 0.0006912, -0.683, 264.8], [-4.195*10**(-7), 9.829*10**(-4), -0.8555, 295.7], [-2.27*10**(-7), 0.0005924, -0.6115, 248.3],\n",
    "          [-0.782, 5.584], [-0.695, 5.018], [-0.0016, 1.5976],\n",
    "          [-2.481*10**(-7), 0.0006211, -0.6149, 244.8], [-4.885*10**(-7), 1.134*10**(-3), -0.9521, 311.2], [-4.307*10**(-7), 0.001035, -0.9005, 299.8],\n",
    "          [-0.002266, 1.759], [-0.001338, 1.308], [-0.001348, 1.304]]\n",
    "\n",
    "perc_to_ml = [[-230.4, 454.1, -35.43, 48.02], [-24.91, 46.87, 211.6, 3.416], [-58.01, 112.2, 171.6, 11.58],\n",
    "          [231.18, 8.9034], [237.48, 0.1073], [237.48, 0.0949],\n",
    "          [237.42, 0.3763], [237.58, -0.4493], [237.51, -0.0849],\n",
    "          [237.5, 0.0227], [237.36, 0.7071], [237.47, 0.1308],\n",
    "          [237.48, 0.1027], [237.52, -0.0979], [229.85, 11.1975],\n",
    "          [-288, 590.4, -135.7, 70.15], [155.5, -315.7, 436.1, -37.37], [131.5, -202.9, 323.6, -8.934],\n",
    "          [236.42, 3.8968], [237.48, 0.0882], [237.56, -0.3774],\n",
    "          [39.75, -81.91, 290.2, -10.66], [21.97, -49.65, 270.6, -6.076], [297.6, -575.8, 580.4, -60.09],\n",
    "          [237.48, 0.1825], [235.17, -1.3795], [245.1, -15.2766],\n",
    "          [237.58, -0.464], [237.59, -0.6442], [241.91, -7.8554],\n",
    "          [234.51, 4.6208], [237.55, -0.2854], [234.98, 4.0053],\n",
    "          [237.58, -0.4355], [237.43, 0.4138], [248.3, -16.6723],\n",
    "          [230.3, 10.2509], [237.65, -0.7543], [269.15, -20.7609],\n",
    "          [231.6, 8.6812], [253.42, -12.7647], [234.14, 4.8231],\n",
    "          [660.7, -1254, 975.4, -131.7], [234.8, -382.3, 420.2, -24.81], [424.9, -770.3, 666.3, -71.82],\n",
    "          [237.57, -0.3797], [237.35, 0.7418], [241.43, -6.2742],\n",
    "          [204.7, -373.2, 442.2, -32.15], [84.8, -163.9, 335.9, -18.07], [259.9, -517.8, 552.9, -56.45],\n",
    "          [-169.5, 343.7, 18.47, 43.03], [-2.409, 8.58, 229.2, 2.292], [-1.895, 7.714, 227.7, 3.541]]\n",
    "\n",
    "ml_to_sec = [1.51, 1.25, 1.23, 1.28, 1.37, 1.56, 1.59, 1.38, 1.51, 1.12, 1.56, 1.23, 1.31, 1.58, 1.84, 1.29, 1.42, 2.15,\n",
    "            1.39, 1.38, 1.38, 1.28, 1.36, 1.26, 1.4, 1.93, 1.37, 1.39, 1.35, 1.55, 1.89, 1.4, 1.36, 1.47, 2.15, 1.74,\n",
    "            1.42, 1.38, 1.41, 1.33, 1.2, 1.94, 1.3, 1.54, 1.31, 1.51, 1.06, 1.15, 1.27, 1.29, 1.34, 1.37, 1.21, 1.23,\n",
    "            0.91, 0.91, 1.15]\n",
    "\n",
    "\n",
    "def calibrate(val, i):\n",
    "    value = 0\n",
    "    if cal_type[i] == 'lin':\n",
    "        value = cal_arr[i][0]*val + cal_arr[i][1]\n",
    "    elif cal_type[i] == 'log':\n",
    "        value = cal_arr[i][0]*np.log(val)+ cal_arr[i][1]\n",
    "    elif cal_type[i] == 'exp':\n",
    "        value = cal_arr[i][1]*np.exp(cal_arr[i][0]*val)\n",
    "    elif cal_type[i] == 'his':\n",
    "        value = ((val**3)*cal_arr[i][0] + (val**2)*cal_arr[i][1] + val*cal_arr[i][2] + cal_arr[i][3])/100\n",
    "    \n",
    "    return value\n",
    "\n",
    "def spray_time(val, i):\n",
    "    value = 0\n",
    "    val80 = 0\n",
    "    sprtime = 0\n",
    "    if len(perc_to_ml[i])==4:\n",
    "        val80 = ((0.8**3)*perc_to_ml[i][0] + (0.8**2)*perc_to_ml[i][1] + 0.8*perc_to_ml[i][2] + perc_to_ml[i][3])\n",
    "        if val < 0:\n",
    "            val = 0\n",
    "        value = val80 - (((val**3)*perc_to_ml[i][0] + (val**2)*perc_to_ml[i][1] + val*perc_to_ml[i][2] + perc_to_ml[i][3]))\n",
    "        \n",
    "    elif len(perc_to_ml[i])==2:\n",
    "        val80 = perc_to_ml[i][0]*0.8 + perc_to_ml[i][1]\n",
    "        if val < 0:\n",
    "            val = 0\n",
    "        value = val80 - (perc_to_ml[i][0]*val + perc_to_ml[i][1])\n",
    "    \n",
    "    sprtime = value*ml_to_sec[i]\n",
    "    \n",
    "    return sprtime\n",
    "    \n",
    "\n",
    "def percentage(value):\n",
    "    percent = \"{:.0%}\".format(value)\n",
    "\n",
    "    return percent"
   ]
  },
  {
   "cell_type": "code",
   "execution_count": null,
   "metadata": {
    "ExecuteTime": {
     "end_time": "2022-11-27T07:18:58.434718Z",
     "start_time": "2022-11-27T07:18:58.406392Z"
    }
   },
   "outputs": [],
   "source": [
    "def get_id(json, dev):\n",
    "    arr = []\n",
    "    dev_id = []\n",
    "    for i in range (len(json)):\n",
    "        arr.append(json[i]['name'])\n",
    "    \n",
    "    for i in dev:\n",
    "        num = arr.index(i)\n",
    "        for id in {'_id', 'device_id', 'control_id'}:\n",
    "            try:\n",
    "                dev_id.append(json[num][id])\n",
    "            except KeyError:\n",
    "                continue\n",
    "            \n",
    "    return tuple(dev_id)\n",
    "\n",
    "def set_dev(a):\n",
    "    device = []\n",
    "    for i in a:\n",
    "        device.append('[PPKI] [New! Outdoor] Soil Moisture '+str(i))\n",
    "        \n",
    "    return device\n",
    "\n",
    "def get_jsondev():\n",
    "    response = requests.get(url+\"/developer/dataset/\"+database_id[0]+'/device', headers = headers)\n",
    "    \n",
    "    return response\n",
    "\n",
    "def get_dev(json_data, json_control):\n",
    "    resp = json_data.json()\n",
    "    resp_control = json_control.json()\n",
    "    database_id = get_id(resp, dataset_name)\n",
    "    device = set_dev(dev)\n",
    "    control_id = get_id(resp_control, valve)\n",
    "    \n",
    "    return database_id, device, control_id\n",
    "\n",
    "def sort_v (value):\n",
    "    val = []\n",
    "    for i in range (len(device)):\n",
    "        for n in range (len(database_id)):\n",
    "            val.append(value[n][i])\n",
    "            \n",
    "    return val\n",
    "\n",
    "def sort_d (value):\n",
    "    desc = []\n",
    "    for i in range (len(device)):\n",
    "        for n in range (len(database_id)):\n",
    "            desc.append('T'+str(i+3)+'('+str(n+1)+') = '+ percentage(value[3*i+n]/100))\n",
    "            \n",
    "    return desc\n",
    "\n",
    "def get_value(DevId,dev,data_id):\n",
    "    Value = []\n",
    "    Desc = []\n",
    "    Descript = []\n",
    "    spr_time = []\n",
    "    val = []\n",
    "    upload_time = []\n",
    "    for n in range (len(data_id)):\n",
    "        value = []\n",
    "        desc = []\n",
    "        for i in range (len(DevId)):\n",
    "            if i == 1:\n",
    "                resp_value = requests.get(url+\"/developer/dataset/\"+data_id[n]+'/'+DevId[0], headers = headers)\n",
    "                desc.append(str(dev[i])+'('+str(n+1)+ ') = '+str(resp_value.json()[-1]))\n",
    "                value.append(resp_value.json()[-1])\n",
    "            else:\n",
    "                resp_value = requests.get(url+\"/developer/dataset/\"+data_id[n]+'/'+DevId[i], headers = headers)\n",
    "                desc.append(str(dev[i])+'('+str(n+1)+ ') = '+str(resp_value.json()[-1]))\n",
    "                value.append(resp_value.json()[-1])\n",
    "        Value.append(value)\n",
    "        Descript.append(desc)\n",
    "    \n",
    "    Value = sort_v(Value)\n",
    "    Descript = sort_v(Descript)\n",
    "    \n",
    "    for i in range (len(Value)) :\n",
    "        val_sensor = calibrate(Value[i]['value'], i)\n",
    "        val.append(np.round(val_sensor*100, decimals=0))\n",
    "        spr_time.append(np.round(spray_time(val_sensor, i)))\n",
    "        #Desc.append('T'+str(i)+'= '+percentage(val_sensor))\n",
    "        upload_time.append(Value[i]['uploaded'])\n",
    "        \n",
    "    Desc = sort_d(val)\n",
    "        \n",
    "    \n",
    "    return Desc , Descript, spr_time, val, upload_time\n",
    "\n",
    "def get_data():\n",
    "    #resp = json_dev.json()\n",
    "    desc, descript, Spray_time, sensor_read, uploaded = get_value(dev_id, device, database_id)\n",
    "    \n",
    "    return desc, descript, Spray_time, sensor_read, uploaded\n",
    "\n",
    "def timedel(time1, time2):\n",
    "    time = time1 - time2\n",
    "    if time < 0:\n",
    "        time = time + 60\n",
    "    \n",
    "    return time"
   ]
  },
  {
   "cell_type": "code",
   "execution_count": null,
   "metadata": {
    "ExecuteTime": {
     "end_time": "2022-11-27T07:18:59.010404Z",
     "start_time": "2022-11-27T07:18:58.987842Z"
    }
   },
   "outputs": [],
   "source": [
    "def Label(a):\n",
    "    label = []\n",
    "    for i in range (len(a)):        \n",
    "        label.append(a[i])\n",
    "            \n",
    "    return label\n",
    "\n",
    "valve = []\n",
    "for i in range (7):\n",
    "    for n in range (3):\n",
    "        valve.append(\"Solenoid Valve \"+str(i+1)+'-'+str(n+1))\n",
    "\n",
    "status = [\"Wet\", \"Dry\"]\n",
    "value = []\n",
    "sensor_status = []\n",
    "dry_on = []"
   ]
  },
  {
   "cell_type": "code",
   "execution_count": null,
   "metadata": {
    "ExecuteTime": {
     "end_time": "2022-11-27T07:18:59.585678Z",
     "start_time": "2022-11-27T07:18:59.531692Z"
    },
    "code_folding": []
   },
   "outputs": [],
   "source": [
    "param = 80\n",
    "Read = 0\n",
    "number_valve = 1\n",
    "open_time = {'minute': 1,\n",
    "            'second': 0}\n",
    "op_time = 0\n",
    "\n",
    "def my_function(x):\n",
    "  return list(dict.fromkeys(x))\n",
    "\n",
    "def find(s, el):\n",
    "    for i in range(len(s)):\n",
    "        if s[i] == el: \n",
    "            return i\n",
    "    return None\n",
    "\n",
    "def act(df):\n",
    "    m = []\n",
    "    if len(df) == 18 :\n",
    "        for i in range (len(df)):\n",
    "            read = df[i]\n",
    "            if read < param:\n",
    "                m.append(read)\n",
    "                if len(sensor_status)<len(df):\n",
    "                    sensor_status.append(status[1])\n",
    "                    value.append(read)\n",
    "                else :\n",
    "                    sensor_status[i] = status[1]\n",
    "                    value[i] = read\n",
    "            else :\n",
    "                if len(sensor_status)<len(df): \n",
    "                    sensor_status.append(status[0])\n",
    "                    value.append(read)\n",
    "                else :\n",
    "                    sensor_status[i] = status[0]\n",
    "                    value[i] = read\n",
    "                continue\n",
    "            \n",
    "    else :\n",
    "        for i in range (len(df)):\n",
    "            read = df[i]\n",
    "            if read < param:\n",
    "                m.append(read)\n",
    "            else :\n",
    "                continue\n",
    "\n",
    "            #max = np.max(m)\n",
    "            #if max-param < 0 :\n",
    "    m.sort(reverse=False)\n",
    "        \n",
    "    data = my_function(m)\n",
    "        #valve_on = m.index(max)\n",
    "        #data = [valve_on, max]\n",
    "    if 1024 in data:\n",
    "        data.pop(0)\n",
    "        data.append(1024)\n",
    "        \n",
    "    return data\n",
    "\n",
    "def val_act(valve_pos, on_off):\n",
    "    val_id = control_id[valve_pos]\n",
    "    requests.post(url+\"/developer/control/\"+val_id, headers = headers, data = {'value': str(on_off)})\n",
    "    \n",
    "\n",
    "def valve_on (df, n, valve):\n",
    "    global op_time\n",
    "    for i in range (n):\n",
    "        pos = find(df, act(df)[i])\n",
    "        loc_name = label[pos]\n",
    "        valve_name = valve[pos]\n",
    "        op_time = Spray_time[pos]\n",
    "        if len(dry_on)<n and dry_on.count(str(valve_name))==0 :\n",
    "            print (\"Dry condition detected in value \"+str(act(df)[i])+\" at \"+ loc_name)\n",
    "            print (\"Valve \"+ valve_name +\" opening for...\"+str(op_time))\n",
    "            val_act(pos,1)\n",
    "        \n",
    "            dry_on.append(valve_name)\n",
    "            \n",
    "    print (\"Valve open =\", dry_on)\n",
    "        \n",
    "    #time.sleep(5)\n",
    "    \n",
    "def valve_off(df, arr, valve):\n",
    "    for i in range (len(arr)):\n",
    "        df.pop(find(valve, arr[0]))\n",
    "        val_act(find(valve, arr[0]),0)\n",
    "        control_id.pop(find(valve, arr[0]))\n",
    "        Spray_time.pop(find(valve, arr[0]))\n",
    "        valve.pop(find(valve, arr[0]))\n",
    "        arr.pop(0)\n",
    "        \n",
    "    print (\"Valve open =\", dry_on)\n",
    "\n",
    "def valve_action(df, n, valve):\n",
    "    global Read\n",
    "    global op_time\n",
    "    print (\"Read = \", Read+1)\n",
    "    if len(df) < n :\n",
    "        n = len(df)\n",
    "        \n",
    "    if len(dry_on) > 0:\n",
    "        for i in range (n):\n",
    "            pos = find(df,act(df)[i])\n",
    "            loc_name = label[pos]\n",
    "            valve_name = valve[pos]\n",
    "            op_time = Spray_time[pos]\n",
    "            if len(dry_on)<n and i>0:\n",
    "                pos1 = i-(n-len(dry_on))\n",
    "                if df[find(valve, dry_on[pos1])] < param:\n",
    "                    val_act(find(valve, dry_on[pos1]), 0)\n",
    "                    dry_on.pop(pos1)\n",
    "                    \n",
    "            elif df[find(valve, dry_on[i])] < param:\n",
    "                val_act(find(valve, dry_on[i]), 0)\n",
    "                dry_on.pop(i)\n",
    "                \n",
    "                \n",
    "            if len(dry_on)<n and dry_on.count(str(valve_name))==0 :\n",
    "                print (\"Dry condition detected in value \"+str(act(df)[i])+\" at \"+str(loc_name))\n",
    "                print (\"Valve \"+str(valve_name)+\" opening for...\"+str(op_time))\n",
    "                val_act(pos,1)\n",
    "        \n",
    "                dry_on.append(valve_name)\n",
    "\n",
    "        print (\"Valve open =\", dry_on)\n",
    "        \n",
    "        #time.sleep(5)\n",
    "    else :\n",
    "        valve_on(df, n, Valve)\n",
    "    \n",
    "    table = [label[:9], sensor_status[:9], value[:9]]\n",
    "    table1 = [label[9:], sensor_status[9:], value[9:]]\n",
    "    #print(tabulate(table, headers='firstrow', tablefmt='fancy_grid'))\n",
    "    #print(tabulate(table1, headers='firstrow', tablefmt='fancy_grid'))\n",
    "    Read = Read + 1\n",
    "    \n",
    "def underline(a):\n",
    "    print (\"-\"*len(a))\n",
    "    print (a)\n",
    "    print (\"-\"*len(a))\n",
    "    \n",
    "def tup_to_arr(tup):\n",
    "    arr = []\n",
    "    for i in range (len(tup)):\n",
    "        arr.append(tup[i])\n",
    "        \n",
    "    return arr\n",
    "\n",
    "def detect_outlier(data_1):\n",
    "    outliers = []\n",
    "    threshold=1\n",
    "    mean_1 = np.mean(data_1)\n",
    "    std_1 =np.std(data_1)\n",
    "    \n",
    "    for y in data_1:\n",
    "        if mean_1 == std_1 == 0:\n",
    "            break\n",
    "        else:\n",
    "            z_score= (y - mean_1)/std_1 \n",
    "            if np.abs(z_score) > threshold:\n",
    "                outliers.append(y)\n",
    "            \n",
    "    if len(outliers)!= 0:\n",
    "        data_1.pop(find(data_1,outliers[0]))\n",
    "        \n",
    "def filter_sensor(spr_time, sensor_read):\n",
    "    read = []\n",
    "    optime = []\n",
    "    for i in range(18):\n",
    "        box = []\n",
    "        sprtime = []\n",
    "        time_spray= []\n",
    "        for n in range(3):\n",
    "            box.append(sensor_read[3*i+(n)])\n",
    "            sprtime.append(spr_time[3*i+(n)])\n",
    "        \n",
    "        Box = box.copy()\n",
    "        detect_outlier(Box)\n",
    "        for i in range (len(Box)):\n",
    "            time_spray.append(sprtime[find(box, Box[i])])\n",
    "        optime.append(int(np.max(time_spray)))\n",
    "        read.append(box[find(sprtime, np.max(time_spray))])\n",
    "        \n",
    "    return optime, read"
   ]
  },
  {
   "cell_type": "code",
   "execution_count": null,
   "metadata": {
    "ExecuteTime": {
     "end_time": "2021-12-03T10:08:31.401426Z",
     "start_time": "2021-12-03T08:48:20.959919Z"
    }
   },
   "outputs": [],
   "source": [
    "#count = 0\n",
    "while (True):\n",
    "    hour = int(time.strftime(r\"%H\", time.localtime()))\n",
    "    if 7<hour<10 :\n",
    "        response = requests.get(url+\"/developer/dataset\", headers = headers)\n",
    "\n",
    "        resp_control = requests.get(url+\"/developer/control\", headers = headers)\n",
    "\n",
    "        database_id, device, control_id = get_dev(response, resp_control)\n",
    "        control_id = tup_to_arr(control_id)\n",
    "\n",
    "        resp_dev = get_jsondev().json()\n",
    "\n",
    "        dev_id = get_id(resp_dev, device)\n",
    "\n",
    "        Time = datetime.datetime.now()\n",
    "        minut = int(time.strftime(r\"%M\", time.localtime()))\n",
    "        sec = int(time.strftime(r\"%S\", time.localtime()))\n",
    "        time_now = minut + (sec/60)\n",
    "\n",
    "#        while datetime.datetime.now() < Time + datetime.timedelta(minutes = 15):\n",
    "        sensor_read = []\n",
    "        dry_on = []\n",
    "        resp_dev = get_jsondev()\n",
    "        desc, description, Spray_time, sensor_read, upload_time = get_data(resp_dev)\n",
    "        Spray_time, sensor_read = filter_sensor(Spray_time, sensor_read)\n",
    "        current_time = int(time.strftime(r\"%M\", time.localtime()))\n",
    "        Valve = valve.copy()\n",
    "        label = Label(device)\n",
    "            #print (timedel(current_time, sec))\n",
    "\n",
    "            #if (timedel(current_time, minut)/30) > 1:\n",
    "        while datetime.datetime.now() < Time + datetime.timedelta(minutes = 90):\n",
    "            if len(dry_on) != 0 :\n",
    "                valve_off (sensor_read, dry_on, Valve)\n",
    "                #print (time.strftime(r\"%H:%M:%S\", time.localtime()))\n",
    "                #print (act(sensor_read))\n",
    "                #print (Valve)\n",
    "\n",
    "            if (len(act(sensor_read))) != 0 :\n",
    "                valve_action(sensor_read, number_valve, Valve)\n",
    "                print (time.strftime(r\"%H:%M:%S\", time.localtime()))\n",
    "                time.sleep(op_time)\n",
    "                #else :\n",
    "                 #   break\n",
    "                    \n",
    "        #count = count + 1\n",
    "                    \n",
    "            #print ('sensor_read =', sensor_read)\n",
    "\n",
    "            #Time = Time + datetime.timedelta(minutes = open_time['minute']\n",
    "    else:\n",
    "        break\n",
    "            "
   ]
  },
  {
   "cell_type": "code",
   "execution_count": null,
   "metadata": {
    "ExecuteTime": {
     "end_time": "2022-11-27T07:19:35.566711Z",
     "start_time": "2022-11-27T07:19:33.304543Z"
    }
   },
   "outputs": [],
   "source": [
    "response = requests.get(url+\"/developer/dataset\", headers = headers)\n",
    "#response.json()\n",
    "\n",
    "resp_control = requests.get(url+\"/developer/control\", headers = headers)\n",
    "#resp_control.json()\n",
    "\n",
    "database_id, device, control_id = get_dev(response, resp_control)\n",
    "\n",
    "resp_dev = get_jsondev().json()\n",
    "\n",
    "dev_id = get_id(resp_dev, device)\n",
    "\n",
    "resp_dev = get_jsondev()\n",
    "\n",
    "desc, description, Spray_time, sensor_read, upload_time = get_data()\n",
    "\n",
    "label = Label(device)"
   ]
  },
  {
   "cell_type": "code",
   "execution_count": null,
   "metadata": {
    "ExecuteTime": {
     "end_time": "2022-11-27T07:22:12.803348Z",
     "start_time": "2022-11-27T07:22:12.393351Z"
    }
   },
   "outputs": [],
   "source": [
    "requests.get(url+\"/developer/dataset/\"+database_id[0], headers = headers)"
   ]
  },
  {
   "cell_type": "code",
   "execution_count": null,
   "metadata": {
    "ExecuteTime": {
     "end_time": "2022-11-27T07:47:00.938273Z",
     "start_time": "2022-11-27T07:47:00.894747Z"
    }
   },
   "outputs": [],
   "source": [
    "dev_id = ('ODw83libBAixNsPMGTmqQer2gn2mZrOC',\n",
    " 'XniD6mBlnKqagRJ8qD9WhR6JGK4yle1d',\n",
    " 'Tdr4a4bKp5AzrCe6KGki8bUDF0ynE9l9')"
   ]
  },
  {
   "cell_type": "code",
   "execution_count": null,
   "metadata": {
    "ExecuteTime": {
     "end_time": "2022-11-27T07:25:30.415893Z",
     "start_time": "2022-11-27T07:25:30.398625Z"
    }
   },
   "outputs": [],
   "source": [
    "dev_id[0]"
   ]
  },
  {
   "cell_type": "code",
   "execution_count": null,
   "metadata": {
    "ExecuteTime": {
     "end_time": "2022-11-26T07:28:01.775740Z",
     "start_time": "2022-11-26T07:28:01.757869Z"
    }
   },
   "outputs": [],
   "source": [
    "database_id"
   ]
  },
  {
   "cell_type": "code",
   "execution_count": null,
   "metadata": {
    "ExecuteTime": {
     "end_time": "2022-11-27T09:33:21.580709Z",
     "start_time": "2022-11-27T09:33:20.858885Z"
    }
   },
   "outputs": [],
   "source": [
    "resp = requests.get(url+\"/developer/dataset/\"+database_id[0]+'/'+dev_id[1], headers = headers)"
   ]
  },
  {
   "cell_type": "code",
   "execution_count": null,
   "metadata": {
    "ExecuteTime": {
     "end_time": "2022-11-27T09:33:22.820313Z",
     "start_time": "2022-11-27T09:33:22.799319Z"
    }
   },
   "outputs": [],
   "source": [
    "resp.json()[-1]"
   ]
  },
  {
   "cell_type": "code",
   "execution_count": null,
   "metadata": {
    "ExecuteTime": {
     "start_time": "2022-11-26T07:23:52.767Z"
    }
   },
   "outputs": [],
   "source": [
    "resp.json()"
   ]
  },
  {
   "cell_type": "code",
   "execution_count": null,
   "metadata": {
    "ExecuteTime": {
     "end_time": "2022-11-25T16:49:14.124824Z",
     "start_time": "2022-11-25T16:49:14.105676Z"
    }
   },
   "outputs": [],
   "source": [
    "import pandas as pd\n",
    "import datetime"
   ]
  },
  {
   "cell_type": "code",
   "execution_count": null,
   "metadata": {
    "ExecuteTime": {
     "start_time": "2022-11-26T07:22:15.503Z"
    }
   },
   "outputs": [],
   "source": [
    "data_11 = []\n",
    "data_12 = []\n",
    "data_13 = []\n",
    "data_21 = []\n",
    "data_22 = []\n",
    "data_23 = []\n",
    "data_31 = []\n",
    "data_32 = []\n",
    "data_33 = []\n",
    "\n",
    "desc_11 = []\n",
    "desc_12 = []\n",
    "desc_13 = []\n",
    "desc_21 = []\n",
    "desc_22 = []\n",
    "desc_23 = []\n",
    "desc_31 = []\n",
    "desc_32 = []\n",
    "desc_33 = []\n",
    "\n",
    "data_1 = [data_11, data_12, data_13]\n",
    "data_2 = [data_21, data_22, data_23]\n",
    "data_3 = [data_31, data_32, data_33]\n",
    "desc_1 = [desc_11, desc_12, desc_13]\n",
    "desc_2 = [desc_21, desc_22, desc_23]\n",
    "desc_3 = [desc_31, desc_32, desc_33]\n",
    "data = [data_1,data_2,data_3]\n",
    "desc = [desc_1,desc_2,desc_3]\n",
    "\n",
    "for i in range(3):\n",
    "    for j in range(3):\n",
    "        req_value = []\n",
    "        req_desc = []\n",
    "        req = requests.get(url+\"/developer/dataset/\"+database_id[j]+'/'+dev_id[i], headers = headers)\n",
    "        print('i= '+str(i))\n",
    "        print('j= '+str(j))\n",
    "        for n in range (200):\n",
    "            req_value.append(req.json()[n-200-176]['value'])\n",
    "            req_desc.append(req.json()[n-200-176]['uploaded'])\n",
    "        data[i][j].append(req_value)\n",
    "        desc[i][j].append(req_desc)"
   ]
  },
  {
   "cell_type": "code",
   "execution_count": null,
   "metadata": {
    "ExecuteTime": {
     "end_time": "2022-11-26T07:13:08.789842Z",
     "start_time": "2022-11-26T07:13:08.789842Z"
    }
   },
   "outputs": [],
   "source": [
    "data_11 = np.array(data_11).flatten()\n",
    "data_12 = np.array(data_12).flatten()\n",
    "data_13 = np.array(data_13).flatten()\n",
    "data_21 = np.array(data_21).flatten()\n",
    "data_22 = np.array(data_22).flatten()\n",
    "data_23 = np.array(data_23).flatten()\n",
    "data_31 = np.array(data_31).flatten()\n",
    "data_32 = np.array(data_32).flatten()\n",
    "data_33 = np.array(data_33).flatten()\n",
    "desc_11 = np.array(desc_11).flatten()\n",
    "desc_12 = np.array(desc_12).flatten()\n",
    "desc_13 = np.array(desc_13).flatten()\n",
    "desc_21 = np.array(desc_21).flatten()\n",
    "desc_22 = np.array(desc_22).flatten()\n",
    "desc_23 = np.array(desc_23).flatten()\n",
    "desc_31 = np.array(desc_31).flatten()\n",
    "desc_32 = np.array(desc_32).flatten()\n",
    "desc_33 = np.array(desc_33).flatten()"
   ]
  },
  {
   "cell_type": "code",
   "execution_count": null,
   "metadata": {
    "ExecuteTime": {
     "end_time": "2022-11-26T07:13:08.792696Z",
     "start_time": "2022-11-26T07:13:08.792696Z"
    }
   },
   "outputs": [],
   "source": [
    "data_1 = [data_11, data_12, data_13]\n",
    "data_2 = [data_21, data_22, data_23]\n",
    "data_3 = [data_31, data_32, data_33]\n",
    "desc_1 = [desc_11, desc_12, desc_13]\n",
    "desc_2 = [desc_21, desc_22, desc_23]\n",
    "desc_3 = [desc_31, desc_32, desc_33]\n",
    "data = [data_1,data_2,data_3]\n",
    "desc = [desc_1,desc_2,desc_3]"
   ]
  },
  {
   "cell_type": "code",
   "execution_count": null,
   "metadata": {
    "ExecuteTime": {
     "end_time": "2022-11-26T07:13:08.794703Z",
     "start_time": "2022-11-26T07:13:08.794703Z"
    }
   },
   "outputs": [],
   "source": [
    "for i in range(3):\n",
    "    for j in range(3):\n",
    "        data_val = data[i][j]\n",
    "        descript = desc[i][j]\n",
    "        data_label = 'Sensor '+str(i+1)+'-'+str(j+1)\n",
    "        descript_label = 'Description '+str(i+1)+'-'+str(j+1)\n",
    "        data[i][j] = pd.DataFrame({data_label : data_val})\n",
    "        time_data = pd.DataFrame({descript_label : descript})\n",
    "        time_data = pd.to_datetime(time_data[descript_label])\n",
    "        time_data = time_data + pd.Timedelta(hours = 7)\n",
    "        desc[i][j] = time_data.dt.strftime('%Y-%m-%d %H:%M:%S')\n"
   ]
  },
  {
   "cell_type": "code",
   "execution_count": null,
   "metadata": {
    "ExecuteTime": {
     "end_time": "2022-11-26T07:13:08.796709Z",
     "start_time": "2022-11-26T07:13:08.796709Z"
    }
   },
   "outputs": [],
   "source": [
    "dfs = [data[0][0],desc[0][0], data[0][1], desc[0][1], data[0][2], desc[0][2], data[1][0],desc[1][0], data[1][1], desc[1][1], data[1][2], desc[1][2], data[2][0],desc[2][0], data[2][1], desc[2][1], data[2][2], desc[2][2]]"
   ]
  },
  {
   "cell_type": "code",
   "execution_count": null,
   "metadata": {
    "ExecuteTime": {
     "end_time": "2022-11-26T07:13:08.799710Z",
     "start_time": "2022-11-26T07:13:08.798703Z"
    }
   },
   "outputs": [],
   "source": [
    "df_merged = pd.concat(dfs, join = 'outer', axis = 1)"
   ]
  },
  {
   "cell_type": "code",
   "execution_count": null,
   "metadata": {
    "ExecuteTime": {
     "end_time": "2022-11-26T07:16:51.749338Z",
     "start_time": "2022-11-26T07:16:51.729109Z"
    }
   },
   "outputs": [],
   "source": [
    "df_merged"
   ]
  },
  {
   "cell_type": "code",
   "execution_count": null,
   "metadata": {
    "ExecuteTime": {
     "end_time": "2022-11-25T16:55:53.068604Z",
     "start_time": "2022-11-25T16:55:53.046080Z"
    }
   },
   "outputs": [],
   "source": [
    "df_merged.to_csv(\"C:/Rizky/Tugas Akhir/Data/SM_25_11.csv\", index = False)"
   ]
  },
  {
   "cell_type": "code",
   "execution_count": null,
   "metadata": {
    "ExecuteTime": {
     "end_time": "2022-11-25T16:38:29.328679Z",
     "start_time": "2022-11-25T16:38:29.321675Z"
    }
   },
   "outputs": [],
   "source": [
    "import datetime\n",
    "df_merged['Description 1-1'].dtypes"
   ]
  },
  {
   "cell_type": "code",
   "execution_count": null,
   "metadata": {
    "ExecuteTime": {
     "end_time": "2022-11-25T16:06:20.424006Z",
     "start_time": "2022-11-25T16:06:20.379015Z"
    }
   },
   "outputs": [],
   "source": [
    "df_time.dt.strftime('%Y-%m-%d %H:%M:%S')"
   ]
  },
  {
   "cell_type": "code",
   "execution_count": null,
   "metadata": {
    "ExecuteTime": {
     "end_time": "2022-11-03T16:45:10.132163Z",
     "start_time": "2022-11-03T16:44:48.686710Z"
    }
   },
   "outputs": [],
   "source": [
    "response = requests.get(url+\"/developer/dataset\", headers = headers)\n",
    "#response.json()\n",
    "\n",
    "resp_control = requests.get(url+\"/developer/control\", headers = headers)\n",
    "#resp_control.json()\n",
    "\n",
    "database_id, device, control_id = get_dev(response, resp_control)\n",
    "\n",
    "resp_dev = get_jsondev().json()\n",
    "\n",
    "dev_id = get_id(resp_dev, device)"
   ]
  },
  {
   "cell_type": "code",
   "execution_count": null,
   "metadata": {
    "ExecuteTime": {
     "end_time": "2022-11-01T11:16:05.711777Z",
     "start_time": "2022-11-01T11:16:05.677501Z"
    }
   },
   "outputs": [],
   "source": [
    "Spray_time, sensor_read = filter_sensor(Spray_time, sensor_read)"
   ]
  },
  {
   "cell_type": "code",
   "execution_count": null,
   "metadata": {
    "ExecuteTime": {
     "end_time": "2022-11-01T11:16:18.245160Z",
     "start_time": "2022-11-01T11:16:18.236265Z"
    }
   },
   "outputs": [],
   "source": [
    "len(sensor_read)"
   ]
  },
  {
   "cell_type": "code",
   "execution_count": null,
   "metadata": {
    "ExecuteTime": {
     "end_time": "2022-11-02T06:25:52.513345Z",
     "start_time": "2022-11-02T06:25:52.464203Z"
    }
   },
   "outputs": [],
   "source": [
    "a = ''"
   ]
  },
  {
   "cell_type": "code",
   "execution_count": null,
   "metadata": {
    "ExecuteTime": {
     "end_time": "2022-11-02T06:26:12.876157Z",
     "start_time": "2022-11-02T06:26:12.823320Z"
    }
   },
   "outputs": [],
   "source": [
    "b = a+'b'\n",
    "b"
   ]
  },
  {
   "cell_type": "code",
   "execution_count": null,
   "metadata": {
    "ExecuteTime": {
     "end_time": "2021-11-30T15:51:15.343906Z",
     "start_time": "2021-11-30T15:51:15.331915Z"
    }
   },
   "outputs": [],
   "source": [
    "#desc"
   ]
  },
  {
   "cell_type": "code",
   "execution_count": null,
   "metadata": {
    "ExecuteTime": {
     "end_time": "2022-10-29T08:54:13.675668Z",
     "start_time": "2022-10-29T08:54:11.959021Z"
    }
   },
   "outputs": [],
   "source": [
    "get_jsondev().json()"
   ]
  },
  {
   "cell_type": "code",
   "execution_count": null,
   "metadata": {
    "ExecuteTime": {
     "end_time": "2021-12-03T08:47:21.727015Z",
     "start_time": "2021-12-03T08:47:12.810001Z"
    }
   },
   "outputs": [],
   "source": [
    "resp_value = requests.get(url+\"/developer/dataset/\"+database_id[0]+'/'+dev_id[0], headers = headers)"
   ]
  },
  {
   "cell_type": "code",
   "execution_count": null,
   "metadata": {
    "ExecuteTime": {
     "end_time": "2021-12-03T08:15:00.637967Z",
     "start_time": "2021-12-03T08:14:00.499132Z"
    }
   },
   "outputs": [],
   "source": [
    "resp_value = requests.get(url+\"/developer/dataset/\"+database_id[0]+'/'+dev_id[1], headers = headers)"
   ]
  },
  {
   "cell_type": "code",
   "execution_count": null,
   "metadata": {
    "ExecuteTime": {
     "end_time": "2021-12-03T08:47:26.719673Z",
     "start_time": "2021-12-03T08:47:26.701679Z"
    }
   },
   "outputs": [],
   "source": [
    "resp_value.json()[-1]"
   ]
  },
  {
   "cell_type": "code",
   "execution_count": null,
   "metadata": {
    "ExecuteTime": {
     "end_time": "2022-11-01T11:43:53.573577Z",
     "start_time": "2022-11-01T11:43:53.541721Z"
    }
   },
   "outputs": [],
   "source": [
    "CONFIG = {    \n",
    "    'url' : 'http://api.smartfarmingunpad.com',\n",
    "    'hed' : 'X-DEVACCOUNT-TOKEN',\n",
    "    'token' : 'banknJS8Qc0B3TL6vUBxL6GTkfLjBn5PIzlA9mIsGTiDPN66gpeWsXNStN8hQifepB7mFpJdjhFUL1gtEck56qOhhB8PAOOLFMVC8XGMvhHCYYux7nmpsC3yUTpJc1Wc',\n",
    "    \n",
    "    'DATA' : {\n",
    "        'email':'smartfarmingunpad@gmail.com',\n",
    "        'password':'smartfarmingunpad1199'\n",
    "    },\n",
    "    \n",
    "    'threshold' : 80,\n",
    "    \n",
    "    'DATASET' : [\n",
    "        'Dataset sub lokasi 1',\n",
    "        'Dataset sub lokasi 2',\n",
    "        'Dataset sub lokasi 3'\n",
    "    ],\n",
    "    \n",
    "    mlvalue1 = 100,\n",
    "    mlvalue2 = 50\n",
    "}"
   ]
  },
  {
   "cell_type": "code",
   "execution_count": null,
   "metadata": {
    "ExecuteTime": {
     "end_time": "2022-10-06T05:01:14.510937Z",
     "start_time": "2022-10-06T05:01:14.490983Z"
    }
   },
   "outputs": [],
   "source": [
    "a = CONFIG['DATA'][0]"
   ]
  },
  {
   "cell_type": "code",
   "execution_count": null,
   "metadata": {
    "ExecuteTime": {
     "end_time": "2022-11-01T17:49:38.105816Z",
     "start_time": "2022-11-01T17:49:38.027153Z"
    }
   },
   "outputs": [],
   "source": [
    "if 3 < 6 < 9 and 6 == (12/2):\n",
    "    print('naise')"
   ]
  },
  {
   "cell_type": "code",
   "execution_count": null,
   "metadata": {
    "ExecuteTime": {
     "end_time": "2022-10-06T04:57:35.355473Z",
     "start_time": "2022-10-06T04:57:35.346794Z"
    }
   },
   "outputs": [],
   "source": [
    "headers = {\n",
    "    CONFIG['hed'] : CONFIG['token']\n",
    "    }"
   ]
  },
  {
   "cell_type": "code",
   "execution_count": null,
   "metadata": {
    "ExecuteTime": {
     "end_time": "2022-11-01T18:05:42.524430Z",
     "start_time": "2022-11-01T18:05:42.503561Z"
    }
   },
   "outputs": [],
   "source": [
    "CONFIG = {\n",
    "    'GETDATA': {\n",
    "        'urlSensor' : 'http://api.smartfarmingunpad.com/developer/dataset'\n",
    "    },\n",
    "    \n",
    "    'HEADERS': {\n",
    "        'X-DEVACCOUNT-TOKEN' : 'banknJS8Qc0B3TL6vUBxL6GTkfLjBn5PIzlA9mIsGTiDPN66gpeWsXNStN8hQifepB7mFpJdjhFUL1gtEck56qOhhB8PAOOLFMVC8XGMvhHCYYux7nmpsC3yUTpJc1Wc',\n",
    "        'ata' : 'gemoy'\n",
    "    },\n",
    "    \n",
    "    'SM' : {\n",
    "        'DATASET': [\n",
    "            'Dataset sub lokasi 1',\n",
    "            'Dataset sub lokasi 2',\n",
    "            'Dataset sub lokasi 3'\n",
    "        ]\n",
    "    }\n",
    "}"
   ]
  },
  {
   "cell_type": "code",
   "execution_count": null,
   "metadata": {
    "ExecuteTime": {
     "end_time": "2022-11-27T07:19:59.130350Z",
     "start_time": "2022-11-27T07:19:58.626926Z"
    },
    "scrolled": true
   },
   "outputs": [],
   "source": [
    "response = requests.get(url+\"/developer/dataset\", headers = headers)"
   ]
  },
  {
   "cell_type": "code",
   "execution_count": null,
   "metadata": {
    "ExecuteTime": {
     "end_time": "2022-11-27T07:20:10.162281Z",
     "start_time": "2022-11-27T07:20:09.214886Z"
    }
   },
   "outputs": [],
   "source": [
    "response = requests.get(url+\"/developer/dataset\", headers = headers)\n",
    "\n",
    "resp_control = requests.get(url+\"/developer/control\", headers = headers)\n",
    "\n",
    "database_id, device, control_id = get_dev(response, resp_control)"
   ]
  },
  {
   "cell_type": "code",
   "execution_count": null,
   "metadata": {
    "ExecuteTime": {
     "end_time": "2022-11-27T07:20:15.448456Z",
     "start_time": "2022-11-27T07:20:15.429108Z"
    }
   },
   "outputs": [],
   "source": [
    "database_id"
   ]
  },
  {
   "cell_type": "code",
   "execution_count": null,
   "metadata": {
    "ExecuteTime": {
     "start_time": "2022-10-29T09:00:39.852Z"
    }
   },
   "outputs": [],
   "source": [
    "desc, description, Spray_time, sensor_read, upload_time = get_data()"
   ]
  },
  {
   "cell_type": "code",
   "execution_count": null,
   "metadata": {},
   "outputs": [],
   "source": [
    "def get_dev(json_data, json_control):\n",
    "    resp = json_data.json()\n",
    "    resp_control = json_control.json()\n",
    "    database_id = get_id(resp, dataset_name)\n",
    "    device = set_dev(dev)\n",
    "    control_id = get_id(resp_control, valve)\n",
    "    \n",
    "    return database_id, device, control_id\n",
    "\n",
    "def get_id(json, dev):\n",
    "    arr = []\n",
    "    dev_id = []\n",
    "    for i in range (len(json)):\n",
    "        arr.append(json[i]['name'])\n",
    "    \n",
    "    for i in dev:\n",
    "        num = arr.index(i)\n",
    "        for id in {'_id', 'device_id', 'control_id'}:\n",
    "            try:\n",
    "                dev_id.append(json[num][id])\n",
    "            except KeyError:\n",
    "                continue\n",
    "            \n",
    "    return tuple(dev_id)"
   ]
  },
  {
   "cell_type": "code",
   "execution_count": null,
   "metadata": {
    "ExecuteTime": {
     "end_time": "2022-11-02T06:31:47.679899Z",
     "start_time": "2022-11-02T06:31:47.650161Z"
    }
   },
   "outputs": [],
   "source": [
    "class GetData:\n",
    "    def __init__(self, var):\n",
    "        self.variable = var\n",
    "        \n",
    "    def hai(self, self.variable):\n",
    "        a = self.variable + 5\n",
    "        print(a)\n",
    "        \n",
    "    def get_device(self, json_data, json_control):\n",
    "        resp = json_data.json()\n",
    "        resp_control = json_control.json()\n",
    "        self.database_id = get_id(resp, dataset_name)\n",
    "        self.device = set_dev(dev)\n",
    "        self.control_id = get_id(resp_control, valve)\n",
    "\n",
    "    def get_ID(self, json, dev):\n",
    "        arr = []\n",
    "        dev_id = []\n",
    "        \n",
    "        for i in range (len(json)):\n",
    "            arr.append(json[i]['name'])\n",
    "\n",
    "        for i in dev:\n",
    "            num = arr.index(i)\n",
    "            for id in {'_id', 'device_id', 'control_id'}:\n",
    "                try:\n",
    "                    dev_id.append(json[num][id])\n",
    "                except KeyError:\n",
    "                    continue\n",
    "            \n",
    "        return tuple(dev_id)"
   ]
  },
  {
   "cell_type": "code",
   "execution_count": null,
   "metadata": {
    "ExecuteTime": {
     "end_time": "2022-11-02T05:53:59.402432Z",
     "start_time": "2022-11-02T05:53:59.285210Z"
    }
   },
   "outputs": [],
   "source": [
    "get_data = GetData()\n",
    "\n",
    "get_data.get_device(response, resp_control)"
   ]
  },
  {
   "cell_type": "code",
   "execution_count": null,
   "metadata": {
    "ExecuteTime": {
     "end_time": "2022-10-29T09:46:23.248885Z",
     "start_time": "2022-10-29T09:46:23.232582Z"
    }
   },
   "outputs": [],
   "source": [
    "database_id"
   ]
  },
  {
   "cell_type": "code",
   "execution_count": null,
   "metadata": {
    "ExecuteTime": {
     "end_time": "2022-10-29T08:58:58.265518Z",
     "start_time": "2022-10-29T08:58:56.831968Z"
    }
   },
   "outputs": [],
   "source": [
    "resp_dev = get_jsondev().json()\n",
    "\n",
    "dev_id = get_id(resp_dev, device)"
   ]
  },
  {
   "cell_type": "code",
   "execution_count": null,
   "metadata": {
    "ExecuteTime": {
     "end_time": "2022-10-29T08:59:00.791147Z",
     "start_time": "2022-10-29T08:59:00.773382Z"
    }
   },
   "outputs": [],
   "source": [
    "dev_id"
   ]
  },
  {
   "cell_type": "code",
   "execution_count": null,
   "metadata": {
    "ExecuteTime": {
     "end_time": "2022-10-30T13:56:01.014119Z",
     "start_time": "2022-10-30T13:56:00.998213Z"
    }
   },
   "outputs": [],
   "source": [
    "def find(s, el):\n",
    "    for i in range(len(s)):\n",
    "        if s[i] == el: \n",
    "            return i\n",
    "    return None\n",
    "\n",
    "def detect_outlier(data_1):\n",
    "    outliers = []\n",
    "    threshold=1\n",
    "    mean_1 = np.mean(data_1)\n",
    "    std_1 =np.std(data_1)\n",
    "    \n",
    "    \n",
    "    for y in data_1:\n",
    "        z_score= (y - mean_1)/std_1 \n",
    "        if np.abs(z_score) > threshold:\n",
    "            outliers.append(y)\n",
    "            \n",
    "    if len(outliers)!= 0:\n",
    "        data_1.pop(find(data_1,outliers[0]))"
   ]
  },
  {
   "cell_type": "code",
   "execution_count": null,
   "metadata": {
    "ExecuteTime": {
     "end_time": "2022-10-30T13:56:16.309308Z",
     "start_time": "2022-10-30T13:56:16.302060Z"
    }
   },
   "outputs": [],
   "source": [
    "a = [50, 120, 60]"
   ]
  },
  {
   "cell_type": "code",
   "execution_count": null,
   "metadata": {
    "ExecuteTime": {
     "end_time": "2022-10-30T13:56:29.081370Z",
     "start_time": "2022-10-30T13:56:29.063091Z"
    }
   },
   "outputs": [],
   "source": [
    "detect_outlier(a)"
   ]
  },
  {
   "cell_type": "code",
   "execution_count": null,
   "metadata": {
    "ExecuteTime": {
     "end_time": "2022-10-30T13:56:32.507547Z",
     "start_time": "2022-10-30T13:56:32.491476Z"
    }
   },
   "outputs": [],
   "source": [
    "a"
   ]
  },
  {
   "cell_type": "code",
   "execution_count": null,
   "metadata": {
    "ExecuteTime": {
     "end_time": "2022-10-30T13:57:33.715520Z",
     "start_time": "2022-10-30T13:57:33.697797Z"
    }
   },
   "outputs": [],
   "source": [
    "def filter_sensor(spr_time, sensor_read):\n",
    "    read = []\n",
    "    optime = []\n",
    "    for i in range(18):\n",
    "        box = []\n",
    "        sprtime = []\n",
    "        time_spray= []\n",
    "        for n in range(3):\n",
    "            box.append(sensor_read[3*i+(n)])\n",
    "            sprtime.append(spr_time[3*i+(n)])\n",
    "        \n",
    "        Box = box.copy()\n",
    "        detect_outlier(Box)\n",
    "        \n",
    "        for i in range (len(Box)):\n",
    "            time_spray.append(sprtime[find(box, Box[i])])\n",
    "        optime.append(int(np.max(time_spray)))\n",
    "        read.append(box[find(sprtime, np.max(time_spray))])\n",
    "        \n",
    "    return optime, read"
   ]
  },
  {
   "cell_type": "code",
   "execution_count": null,
   "metadata": {
    "ExecuteTime": {
     "end_time": "2022-11-06T13:32:02.965943Z",
     "start_time": "2022-11-06T13:32:02.906307Z"
    }
   },
   "outputs": [],
   "source": [
    "import pandas as pd\n",
    "import numpy as np\n",
    "P_df = pd.DataFrame(np.random.randint(9,20,size=(525600, 1)))"
   ]
  },
  {
   "cell_type": "code",
   "execution_count": null,
   "metadata": {
    "ExecuteTime": {
     "end_time": "2022-11-06T13:32:03.584424Z",
     "start_time": "2022-11-06T13:32:03.511299Z"
    }
   },
   "outputs": [],
   "source": [
    "P_df"
   ]
  },
  {
   "cell_type": "code",
   "execution_count": null,
   "metadata": {
    "ExecuteTime": {
     "end_time": "2022-11-13T17:49:40.394258Z",
     "start_time": "2022-11-13T17:49:40.377243Z"
    }
   },
   "outputs": [],
   "source": [
    "from random import uniform\n",
    "import numpy as np\n",
    "\n",
    "Q_values = []\n",
    "for i in range(5):\n",
    "    row = []\n",
    "    for j in range(7):\n",
    "        row.append(float(uniform(-2,2)))\n",
    "    Q_values.append(row)\n",
    "Q_values = np.matrix(Q_values ,dtype=float).reshape(5, 7)"
   ]
  },
  {
   "cell_type": "code",
   "execution_count": null,
   "metadata": {
    "ExecuteTime": {
     "end_time": "2022-11-13T17:49:40.630193Z",
     "start_time": "2022-11-13T17:49:40.613451Z"
    }
   },
   "outputs": [],
   "source": [
    "Q_values"
   ]
  },
  {
   "cell_type": "code",
   "execution_count": null,
   "metadata": {
    "ExecuteTime": {
     "end_time": "2022-11-23T08:27:40.366271Z",
     "start_time": "2022-11-23T08:27:40.345504Z"
    }
   },
   "outputs": [],
   "source": [
    "val_id = [\n",
    "    \"637132367e1dfe2d9af9c4ae\",\n",
    "    \"6371323c7e1dfe2d9af9c4af\",\n",
    "    \"637132427e1dfe2d9af9c4b0\"\n",
    "]\n",
    "\n",
    "data_pwm = [\n",
    "    '240',\n",
    "    '150',\n",
    "    '100'\n",
    "]"
   ]
  },
  {
   "cell_type": "code",
   "execution_count": null,
   "metadata": {
    "ExecuteTime": {
     "end_time": "2022-11-23T08:36:05.174530Z",
     "start_time": "2022-11-23T08:35:58.164316Z"
    }
   },
   "outputs": [],
   "source": [
    "for i in range(3):\n",
    "    #requests.post(url+\"/developer/control/\"+val_id[i], headers = headers, data = {'value': data_pwm[i]})\n",
    "    requests.post(url+\"/developer/control/\"+val_id[i], headers = headers, data = {'value': '0'})\n",
    "    time.sleep(2)"
   ]
  },
  {
   "cell_type": "code",
   "execution_count": null,
   "metadata": {
    "ExecuteTime": {
     "end_time": "2022-11-21T08:41:11.182221Z",
     "start_time": "2022-11-21T08:41:09.957753Z"
    }
   },
   "outputs": [],
   "source": [
    "requests.post(url+\"/developer/control/637132257e1dfe2d9af9c4ac\", headers = headers, data = {'value': '0'})\n",
    "\n",
    "#requests.post(url+\"/developer/control/\"+val_id, headers = headers, data = {'value': str(on_off)})  "
   ]
  },
  {
   "cell_type": "code",
   "execution_count": null,
   "metadata": {
    "ExecuteTime": {
     "end_time": "2022-11-23T08:23:19.014791Z",
     "start_time": "2022-11-23T08:23:18.199390Z"
    }
   },
   "outputs": [],
   "source": [
    "response = requests.get(url+\"/developer/dataset\", headers = headers)"
   ]
  },
  {
   "cell_type": "code",
   "execution_count": null,
   "metadata": {
    "ExecuteTime": {
     "end_time": "2022-11-23T08:23:19.035083Z",
     "start_time": "2022-11-23T08:23:19.018805Z"
    }
   },
   "outputs": [],
   "source": [
    "response.json()"
   ]
  },
  {
   "cell_type": "code",
   "execution_count": null,
   "metadata": {
    "ExecuteTime": {
     "end_time": "2022-11-23T08:27:01.250837Z",
     "start_time": "2022-11-23T08:27:00.950722Z"
    }
   },
   "outputs": [],
   "source": [
    "resp_control = requests.get(url+\"/developer/control\", headers = headers)"
   ]
  },
  {
   "cell_type": "code",
   "execution_count": null,
   "metadata": {
    "ExecuteTime": {
     "end_time": "2022-11-23T08:27:01.302289Z",
     "start_time": "2022-11-23T08:27:01.286467Z"
    }
   },
   "outputs": [],
   "source": [
    "resp_control.json()"
   ]
  },
  {
   "cell_type": "code",
   "execution_count": null,
   "metadata": {
    "ExecuteTime": {
     "end_time": "2022-11-17T19:09:58.143457Z",
     "start_time": "2022-11-17T19:09:58.130552Z"
    }
   },
   "outputs": [],
   "source": [
    "from random import uniform\n",
    "\n",
    "init_matrix = []\n",
    "for i in range(12):\n",
    "    row = []\n",
    "    for j in range(11):\n",
    "        row.append(float(uniform(-2,2)))\n",
    "    init_matrix.append(row)\n",
    "init_matrix = np.matrix(init_matrix ,dtype=float).reshape(12, 11)"
   ]
  },
  {
   "cell_type": "code",
   "execution_count": null,
   "metadata": {
    "ExecuteTime": {
     "end_time": "2022-11-17T19:10:04.028944Z",
     "start_time": "2022-11-17T19:10:04.012633Z"
    }
   },
   "outputs": [],
   "source": [
    "init_matrix"
   ]
  },
  {
   "cell_type": "code",
   "execution_count": null,
   "metadata": {
    "ExecuteTime": {
     "end_time": "2022-11-17T19:35:39.053717Z",
     "start_time": "2022-11-17T19:35:38.987739Z"
    }
   },
   "outputs": [],
   "source": [
    "action = [7,2,5]\n",
    "state = [5,3,1]\n",
    "action_type = ['Exploit', 'Exploit', 'Exploration']\n",
    "next_state = [7, 7, 9]\n",
    "\n",
    "pd.DataFrame({'State' : [state[0]], 'Action' : [action[0]], 'Action Type' : [action_type[0]], 'Next State' : [next_state[0]]})"
   ]
  },
  {
   "cell_type": "code",
   "execution_count": null,
   "metadata": {
    "ExecuteTime": {
     "end_time": "2022-11-17T19:35:00.085105Z",
     "start_time": "2022-11-17T19:34:59.905426Z"
    }
   },
   "outputs": [],
   "source": [
    "pd.DataFrame({'State' : [7], 'Action' : [8], 'Action Type' : [9], 'Next State' : [10]})"
   ]
  },
  {
   "cell_type": "code",
   "execution_count": null,
   "metadata": {
    "ExecuteTime": {
     "end_time": "2022-11-23T04:48:40.421650Z",
     "start_time": "2022-11-23T04:48:40.404748Z"
    }
   },
   "outputs": [],
   "source": [
    "data = [80,70,59]\n",
    "\n",
    "#detect_outlier(data)"
   ]
  },
  {
   "cell_type": "code",
   "execution_count": null,
   "metadata": {
    "ExecuteTime": {
     "end_time": "2022-11-23T04:48:40.718007Z",
     "start_time": "2022-11-23T04:48:40.699028Z"
    }
   },
   "outputs": [],
   "source": [
    "abs(data[2]-np.mean(data))/np.mean(data)*100"
   ]
  },
  {
   "cell_type": "code",
   "execution_count": null,
   "metadata": {
    "ExecuteTime": {
     "end_time": "2022-11-23T04:30:58.993963Z",
     "start_time": "2022-11-23T04:30:58.983201Z"
    }
   },
   "outputs": [],
   "source": [
    "abs((50-np.mean(data))/np.std(data))"
   ]
  },
  {
   "cell_type": "code",
   "execution_count": null,
   "metadata": {
    "ExecuteTime": {
     "end_time": "2022-11-23T04:25:28.537085Z",
     "start_time": "2022-11-23T04:25:28.526646Z"
    }
   },
   "outputs": [],
   "source": [
    "detect_outlier(data)\n",
    "data"
   ]
  },
  {
   "cell_type": "code",
   "execution_count": null,
   "metadata": {
    "ExecuteTime": {
     "end_time": "2022-11-23T04:21:09.662061Z",
     "start_time": "2022-11-23T04:21:09.646364Z"
    }
   },
   "outputs": [],
   "source": [
    "mean = 0\n",
    "std = 0\n",
    "\n",
    "if mean == std == 0:\n",
    "    print ('gabisa boi')"
   ]
  },
  {
   "cell_type": "code",
   "execution_count": null,
   "metadata": {
    "ExecuteTime": {
     "end_time": "2022-11-23T09:28:14.184974Z",
     "start_time": "2022-11-23T09:27:14.151348Z"
    }
   },
   "outputs": [],
   "source": [
    "print('hi, wait a minute')\n",
    "time.sleep(30*2)\n",
    "print('done')"
   ]
  },
  {
   "cell_type": "code",
   "execution_count": null,
   "metadata": {
    "ExecuteTime": {
     "end_time": "2022-11-28T08:32:06.322522Z",
     "start_time": "2022-11-28T08:32:06.308294Z"
    }
   },
   "outputs": [],
   "source": [
    "database_id = ['63845df6e303f4563a77463a',\n",
    " '63845e26e303f4563a77463b',\n",
    " '63845e3de303f4563a77463c']\n",
    "\n",
    "dev_id = ['XniD6mBlnKqagRJ8qD9WhR6JGK4yle1d',\n",
    " 'XniD6mBlnKqagRJ8qD9WhR6JGK4yle1d',\n",
    " 'Tdr4a4bKp5AzrCe6KGki8bUDF0ynE9l9']"
   ]
  },
  {
   "cell_type": "code",
   "execution_count": null,
   "metadata": {
    "ExecuteTime": {
     "end_time": "2022-12-06T18:17:19.986828Z",
     "start_time": "2022-12-06T18:17:19.967910Z"
    }
   },
   "outputs": [],
   "source": [
    "a = [1,2,3]\n",
    "b = [4,3,2]\n",
    "\n",
    "np.mean([a,b])"
   ]
  },
  {
   "cell_type": "code",
   "execution_count": 2,
   "metadata": {
    "ExecuteTime": {
     "end_time": "2022-12-07T10:05:35.543478Z",
     "start_time": "2022-12-07T10:05:00.513126Z"
    }
   },
   "outputs": [
    {
     "name": "stdout",
     "output_type": "stream",
     "text": [
      "i= 0\n",
      "j= 0\n",
      "i= 0\n",
      "j= 1\n",
      "i= 0\n",
      "j= 2\n",
      "i= 1\n",
      "j= 0\n",
      "i= 1\n",
      "j= 1\n",
      "i= 1\n",
      "j= 2\n",
      "i= 2\n",
      "j= 0\n",
      "i= 2\n",
      "j= 1\n",
      "i= 2\n",
      "j= 2\n"
     ]
    },
    {
     "data": {
      "text/html": [
       "<div>\n",
       "<style scoped>\n",
       "    .dataframe tbody tr th:only-of-type {\n",
       "        vertical-align: middle;\n",
       "    }\n",
       "\n",
       "    .dataframe tbody tr th {\n",
       "        vertical-align: top;\n",
       "    }\n",
       "\n",
       "    .dataframe thead th {\n",
       "        text-align: right;\n",
       "    }\n",
       "</style>\n",
       "<table border=\"1\" class=\"dataframe\">\n",
       "  <thead>\n",
       "    <tr style=\"text-align: right;\">\n",
       "      <th></th>\n",
       "      <th>Description 1-1</th>\n",
       "      <th>Sensor 1-1</th>\n",
       "      <th>Sensor 1-2</th>\n",
       "      <th>Sensor 1-3</th>\n",
       "      <th>Sensor 2-1</th>\n",
       "      <th>Sensor 2-2</th>\n",
       "      <th>Sensor 2-3</th>\n",
       "      <th>Sensor 3-1</th>\n",
       "      <th>Sensor 3-2</th>\n",
       "      <th>Sensor 2-3</th>\n",
       "    </tr>\n",
       "  </thead>\n",
       "  <tbody>\n",
       "    <tr>\n",
       "      <th>0</th>\n",
       "      <td>2022-12-07 13:43:24</td>\n",
       "      <td>55.0</td>\n",
       "      <td>65.6</td>\n",
       "      <td>56.2</td>\n",
       "      <td>60.6</td>\n",
       "      <td>57.1</td>\n",
       "      <td>59.8</td>\n",
       "      <td>48.5</td>\n",
       "      <td>58.4</td>\n",
       "      <td>NaN</td>\n",
       "    </tr>\n",
       "    <tr>\n",
       "      <th>1</th>\n",
       "      <td>2022-12-07 13:41:24</td>\n",
       "      <td>53.9</td>\n",
       "      <td>65.0</td>\n",
       "      <td>62.1</td>\n",
       "      <td>70.0</td>\n",
       "      <td>72.3</td>\n",
       "      <td>70.3</td>\n",
       "      <td>49.4</td>\n",
       "      <td>61.0</td>\n",
       "      <td>NaN</td>\n",
       "    </tr>\n",
       "    <tr>\n",
       "      <th>2</th>\n",
       "      <td>2022-12-07 13:39:24</td>\n",
       "      <td>65.3</td>\n",
       "      <td>71.1</td>\n",
       "      <td>63.7</td>\n",
       "      <td>83.5</td>\n",
       "      <td>91.5</td>\n",
       "      <td>84.3</td>\n",
       "      <td>52.8</td>\n",
       "      <td>61.9</td>\n",
       "      <td>NaN</td>\n",
       "    </tr>\n",
       "    <tr>\n",
       "      <th>3</th>\n",
       "      <td>2022-12-07 13:37:24</td>\n",
       "      <td>65.5</td>\n",
       "      <td>72.5</td>\n",
       "      <td>65.0</td>\n",
       "      <td>82.7</td>\n",
       "      <td>88.8</td>\n",
       "      <td>83.7</td>\n",
       "      <td>53.0</td>\n",
       "      <td>62.1</td>\n",
       "      <td>NaN</td>\n",
       "    </tr>\n",
       "    <tr>\n",
       "      <th>4</th>\n",
       "      <td>2022-12-07 13:35:24</td>\n",
       "      <td>60.8</td>\n",
       "      <td>67.6</td>\n",
       "      <td>56.8</td>\n",
       "      <td>76.1</td>\n",
       "      <td>77.9</td>\n",
       "      <td>74.2</td>\n",
       "      <td>56.8</td>\n",
       "      <td>71.1</td>\n",
       "      <td>NaN</td>\n",
       "    </tr>\n",
       "    <tr>\n",
       "      <th>5</th>\n",
       "      <td>2022-12-07 13:33:24</td>\n",
       "      <td>64.8</td>\n",
       "      <td>73.5</td>\n",
       "      <td>77.1</td>\n",
       "      <td>77.6</td>\n",
       "      <td>80.8</td>\n",
       "      <td>77.3</td>\n",
       "      <td>38.1</td>\n",
       "      <td>50.6</td>\n",
       "      <td>NaN</td>\n",
       "    </tr>\n",
       "    <tr>\n",
       "      <th>6</th>\n",
       "      <td>2022-12-07 13:31:24</td>\n",
       "      <td>64.6</td>\n",
       "      <td>72.5</td>\n",
       "      <td>69.0</td>\n",
       "      <td>81.4</td>\n",
       "      <td>85.2</td>\n",
       "      <td>81.2</td>\n",
       "      <td>74.4</td>\n",
       "      <td>61.9</td>\n",
       "      <td>NaN</td>\n",
       "    </tr>\n",
       "    <tr>\n",
       "      <th>7</th>\n",
       "      <td>2022-12-07 13:29:24</td>\n",
       "      <td>52.0</td>\n",
       "      <td>61.9</td>\n",
       "      <td>52.0</td>\n",
       "      <td>69.3</td>\n",
       "      <td>67.4</td>\n",
       "      <td>67.7</td>\n",
       "      <td>56.4</td>\n",
       "      <td>61.0</td>\n",
       "      <td>NaN</td>\n",
       "    </tr>\n",
       "    <tr>\n",
       "      <th>8</th>\n",
       "      <td>2022-12-07 13:27:24</td>\n",
       "      <td>61.1</td>\n",
       "      <td>71.9</td>\n",
       "      <td>73.5</td>\n",
       "      <td>75.3</td>\n",
       "      <td>76.3</td>\n",
       "      <td>77.1</td>\n",
       "      <td>63.4</td>\n",
       "      <td>62.9</td>\n",
       "      <td>NaN</td>\n",
       "    </tr>\n",
       "    <tr>\n",
       "      <th>9</th>\n",
       "      <td>2022-12-07 13:25:24</td>\n",
       "      <td>58.5</td>\n",
       "      <td>68.2</td>\n",
       "      <td>61.7</td>\n",
       "      <td>76.8</td>\n",
       "      <td>77.2</td>\n",
       "      <td>75.7</td>\n",
       "      <td>48.7</td>\n",
       "      <td>59.0</td>\n",
       "      <td>NaN</td>\n",
       "    </tr>\n",
       "    <tr>\n",
       "      <th>10</th>\n",
       "      <td>2022-12-07 13:23:24</td>\n",
       "      <td>58.8</td>\n",
       "      <td>70.0</td>\n",
       "      <td>66.2</td>\n",
       "      <td>76.5</td>\n",
       "      <td>77.4</td>\n",
       "      <td>76.1</td>\n",
       "      <td>50.1</td>\n",
       "      <td>60.8</td>\n",
       "      <td>NaN</td>\n",
       "    </tr>\n",
       "    <tr>\n",
       "      <th>11</th>\n",
       "      <td>2022-12-07 13:21:24</td>\n",
       "      <td>58.8</td>\n",
       "      <td>68.2</td>\n",
       "      <td>63.5</td>\n",
       "      <td>74.4</td>\n",
       "      <td>76.7</td>\n",
       "      <td>75.9</td>\n",
       "      <td>44.6</td>\n",
       "      <td>55.7</td>\n",
       "      <td>NaN</td>\n",
       "    </tr>\n",
       "    <tr>\n",
       "      <th>12</th>\n",
       "      <td>2022-12-07 13:19:24</td>\n",
       "      <td>60.0</td>\n",
       "      <td>69.0</td>\n",
       "      <td>61.1</td>\n",
       "      <td>74.4</td>\n",
       "      <td>79.9</td>\n",
       "      <td>75.5</td>\n",
       "      <td>48.5</td>\n",
       "      <td>60.6</td>\n",
       "      <td>NaN</td>\n",
       "    </tr>\n",
       "    <tr>\n",
       "      <th>13</th>\n",
       "      <td>2022-12-07 13:17:24</td>\n",
       "      <td>59.4</td>\n",
       "      <td>68.8</td>\n",
       "      <td>63.5</td>\n",
       "      <td>75.3</td>\n",
       "      <td>79.2</td>\n",
       "      <td>75.2</td>\n",
       "      <td>46.7</td>\n",
       "      <td>56.7</td>\n",
       "      <td>NaN</td>\n",
       "    </tr>\n",
       "    <tr>\n",
       "      <th>14</th>\n",
       "      <td>2022-12-07 13:15:24</td>\n",
       "      <td>60.0</td>\n",
       "      <td>71.9</td>\n",
       "      <td>70.6</td>\n",
       "      <td>73.7</td>\n",
       "      <td>76.7</td>\n",
       "      <td>74.0</td>\n",
       "      <td>47.8</td>\n",
       "      <td>60.0</td>\n",
       "      <td>NaN</td>\n",
       "    </tr>\n",
       "    <tr>\n",
       "      <th>15</th>\n",
       "      <td>2022-12-07 13:13:24</td>\n",
       "      <td>59.2</td>\n",
       "      <td>68.6</td>\n",
       "      <td>62.5</td>\n",
       "      <td>76.3</td>\n",
       "      <td>78.3</td>\n",
       "      <td>76.4</td>\n",
       "      <td>54.1</td>\n",
       "      <td>59.4</td>\n",
       "      <td>NaN</td>\n",
       "    </tr>\n",
       "    <tr>\n",
       "      <th>16</th>\n",
       "      <td>2022-12-07 13:11:24</td>\n",
       "      <td>59.4</td>\n",
       "      <td>68.2</td>\n",
       "      <td>56.4</td>\n",
       "      <td>76.1</td>\n",
       "      <td>77.9</td>\n",
       "      <td>74.4</td>\n",
       "      <td>48.7</td>\n",
       "      <td>63.7</td>\n",
       "      <td>NaN</td>\n",
       "    </tr>\n",
       "    <tr>\n",
       "      <th>17</th>\n",
       "      <td>2022-12-07 13:09:24</td>\n",
       "      <td>56.5</td>\n",
       "      <td>68.6</td>\n",
       "      <td>59.5</td>\n",
       "      <td>75.1</td>\n",
       "      <td>75.8</td>\n",
       "      <td>73.3</td>\n",
       "      <td>52.1</td>\n",
       "      <td>61.9</td>\n",
       "      <td>NaN</td>\n",
       "    </tr>\n",
       "    <tr>\n",
       "      <th>18</th>\n",
       "      <td>2022-12-07 13:07:24</td>\n",
       "      <td>64.0</td>\n",
       "      <td>73.1</td>\n",
       "      <td>71.5</td>\n",
       "      <td>75.6</td>\n",
       "      <td>80.8</td>\n",
       "      <td>75.0</td>\n",
       "      <td>48.5</td>\n",
       "      <td>58.2</td>\n",
       "      <td>NaN</td>\n",
       "    </tr>\n",
       "    <tr>\n",
       "      <th>19</th>\n",
       "      <td>2022-12-07 13:05:24</td>\n",
       "      <td>60.9</td>\n",
       "      <td>71.1</td>\n",
       "      <td>73.1</td>\n",
       "      <td>77.2</td>\n",
       "      <td>82.1</td>\n",
       "      <td>76.4</td>\n",
       "      <td>47.8</td>\n",
       "      <td>60.4</td>\n",
       "      <td>NaN</td>\n",
       "    </tr>\n",
       "    <tr>\n",
       "      <th>20</th>\n",
       "      <td>NaN</td>\n",
       "      <td>NaN</td>\n",
       "      <td>NaN</td>\n",
       "      <td>NaN</td>\n",
       "      <td>NaN</td>\n",
       "      <td>NaN</td>\n",
       "      <td>NaN</td>\n",
       "      <td>NaN</td>\n",
       "      <td>NaN</td>\n",
       "      <td>77.3</td>\n",
       "    </tr>\n",
       "    <tr>\n",
       "      <th>21</th>\n",
       "      <td>NaN</td>\n",
       "      <td>NaN</td>\n",
       "      <td>NaN</td>\n",
       "      <td>NaN</td>\n",
       "      <td>NaN</td>\n",
       "      <td>NaN</td>\n",
       "      <td>NaN</td>\n",
       "      <td>NaN</td>\n",
       "      <td>NaN</td>\n",
       "      <td>76.1</td>\n",
       "    </tr>\n",
       "    <tr>\n",
       "      <th>22</th>\n",
       "      <td>NaN</td>\n",
       "      <td>NaN</td>\n",
       "      <td>NaN</td>\n",
       "      <td>NaN</td>\n",
       "      <td>NaN</td>\n",
       "      <td>NaN</td>\n",
       "      <td>NaN</td>\n",
       "      <td>NaN</td>\n",
       "      <td>NaN</td>\n",
       "      <td>74.7</td>\n",
       "    </tr>\n",
       "    <tr>\n",
       "      <th>23</th>\n",
       "      <td>NaN</td>\n",
       "      <td>NaN</td>\n",
       "      <td>NaN</td>\n",
       "      <td>NaN</td>\n",
       "      <td>NaN</td>\n",
       "      <td>NaN</td>\n",
       "      <td>NaN</td>\n",
       "      <td>NaN</td>\n",
       "      <td>NaN</td>\n",
       "      <td>74.7</td>\n",
       "    </tr>\n",
       "    <tr>\n",
       "      <th>24</th>\n",
       "      <td>NaN</td>\n",
       "      <td>NaN</td>\n",
       "      <td>NaN</td>\n",
       "      <td>NaN</td>\n",
       "      <td>NaN</td>\n",
       "      <td>NaN</td>\n",
       "      <td>NaN</td>\n",
       "      <td>NaN</td>\n",
       "      <td>NaN</td>\n",
       "      <td>72.8</td>\n",
       "    </tr>\n",
       "    <tr>\n",
       "      <th>25</th>\n",
       "      <td>NaN</td>\n",
       "      <td>NaN</td>\n",
       "      <td>NaN</td>\n",
       "      <td>NaN</td>\n",
       "      <td>NaN</td>\n",
       "      <td>NaN</td>\n",
       "      <td>NaN</td>\n",
       "      <td>NaN</td>\n",
       "      <td>NaN</td>\n",
       "      <td>73.0</td>\n",
       "    </tr>\n",
       "    <tr>\n",
       "      <th>26</th>\n",
       "      <td>NaN</td>\n",
       "      <td>NaN</td>\n",
       "      <td>NaN</td>\n",
       "      <td>NaN</td>\n",
       "      <td>NaN</td>\n",
       "      <td>NaN</td>\n",
       "      <td>NaN</td>\n",
       "      <td>NaN</td>\n",
       "      <td>NaN</td>\n",
       "      <td>75.2</td>\n",
       "    </tr>\n",
       "    <tr>\n",
       "      <th>27</th>\n",
       "      <td>NaN</td>\n",
       "      <td>NaN</td>\n",
       "      <td>NaN</td>\n",
       "      <td>NaN</td>\n",
       "      <td>NaN</td>\n",
       "      <td>NaN</td>\n",
       "      <td>NaN</td>\n",
       "      <td>NaN</td>\n",
       "      <td>NaN</td>\n",
       "      <td>75.0</td>\n",
       "    </tr>\n",
       "    <tr>\n",
       "      <th>28</th>\n",
       "      <td>NaN</td>\n",
       "      <td>NaN</td>\n",
       "      <td>NaN</td>\n",
       "      <td>NaN</td>\n",
       "      <td>NaN</td>\n",
       "      <td>NaN</td>\n",
       "      <td>NaN</td>\n",
       "      <td>NaN</td>\n",
       "      <td>NaN</td>\n",
       "      <td>73.0</td>\n",
       "    </tr>\n",
       "    <tr>\n",
       "      <th>29</th>\n",
       "      <td>NaN</td>\n",
       "      <td>NaN</td>\n",
       "      <td>NaN</td>\n",
       "      <td>NaN</td>\n",
       "      <td>NaN</td>\n",
       "      <td>NaN</td>\n",
       "      <td>NaN</td>\n",
       "      <td>NaN</td>\n",
       "      <td>NaN</td>\n",
       "      <td>75.2</td>\n",
       "    </tr>\n",
       "    <tr>\n",
       "      <th>30</th>\n",
       "      <td>NaN</td>\n",
       "      <td>NaN</td>\n",
       "      <td>NaN</td>\n",
       "      <td>NaN</td>\n",
       "      <td>NaN</td>\n",
       "      <td>NaN</td>\n",
       "      <td>NaN</td>\n",
       "      <td>NaN</td>\n",
       "      <td>NaN</td>\n",
       "      <td>76.1</td>\n",
       "    </tr>\n",
       "    <tr>\n",
       "      <th>31</th>\n",
       "      <td>NaN</td>\n",
       "      <td>NaN</td>\n",
       "      <td>NaN</td>\n",
       "      <td>NaN</td>\n",
       "      <td>NaN</td>\n",
       "      <td>NaN</td>\n",
       "      <td>NaN</td>\n",
       "      <td>NaN</td>\n",
       "      <td>NaN</td>\n",
       "      <td>76.7</td>\n",
       "    </tr>\n",
       "    <tr>\n",
       "      <th>32</th>\n",
       "      <td>NaN</td>\n",
       "      <td>NaN</td>\n",
       "      <td>NaN</td>\n",
       "      <td>NaN</td>\n",
       "      <td>NaN</td>\n",
       "      <td>NaN</td>\n",
       "      <td>NaN</td>\n",
       "      <td>NaN</td>\n",
       "      <td>NaN</td>\n",
       "      <td>75.7</td>\n",
       "    </tr>\n",
       "    <tr>\n",
       "      <th>33</th>\n",
       "      <td>NaN</td>\n",
       "      <td>NaN</td>\n",
       "      <td>NaN</td>\n",
       "      <td>NaN</td>\n",
       "      <td>NaN</td>\n",
       "      <td>NaN</td>\n",
       "      <td>NaN</td>\n",
       "      <td>NaN</td>\n",
       "      <td>NaN</td>\n",
       "      <td>75.4</td>\n",
       "    </tr>\n",
       "    <tr>\n",
       "      <th>34</th>\n",
       "      <td>NaN</td>\n",
       "      <td>NaN</td>\n",
       "      <td>NaN</td>\n",
       "      <td>NaN</td>\n",
       "      <td>NaN</td>\n",
       "      <td>NaN</td>\n",
       "      <td>NaN</td>\n",
       "      <td>NaN</td>\n",
       "      <td>NaN</td>\n",
       "      <td>77.8</td>\n",
       "    </tr>\n",
       "    <tr>\n",
       "      <th>35</th>\n",
       "      <td>NaN</td>\n",
       "      <td>NaN</td>\n",
       "      <td>NaN</td>\n",
       "      <td>NaN</td>\n",
       "      <td>NaN</td>\n",
       "      <td>NaN</td>\n",
       "      <td>NaN</td>\n",
       "      <td>NaN</td>\n",
       "      <td>NaN</td>\n",
       "      <td>75.9</td>\n",
       "    </tr>\n",
       "    <tr>\n",
       "      <th>36</th>\n",
       "      <td>NaN</td>\n",
       "      <td>NaN</td>\n",
       "      <td>NaN</td>\n",
       "      <td>NaN</td>\n",
       "      <td>NaN</td>\n",
       "      <td>NaN</td>\n",
       "      <td>NaN</td>\n",
       "      <td>NaN</td>\n",
       "      <td>NaN</td>\n",
       "      <td>77.8</td>\n",
       "    </tr>\n",
       "    <tr>\n",
       "      <th>37</th>\n",
       "      <td>NaN</td>\n",
       "      <td>NaN</td>\n",
       "      <td>NaN</td>\n",
       "      <td>NaN</td>\n",
       "      <td>NaN</td>\n",
       "      <td>NaN</td>\n",
       "      <td>NaN</td>\n",
       "      <td>NaN</td>\n",
       "      <td>NaN</td>\n",
       "      <td>77.4</td>\n",
       "    </tr>\n",
       "    <tr>\n",
       "      <th>38</th>\n",
       "      <td>NaN</td>\n",
       "      <td>NaN</td>\n",
       "      <td>NaN</td>\n",
       "      <td>NaN</td>\n",
       "      <td>NaN</td>\n",
       "      <td>NaN</td>\n",
       "      <td>NaN</td>\n",
       "      <td>NaN</td>\n",
       "      <td>NaN</td>\n",
       "      <td>77.3</td>\n",
       "    </tr>\n",
       "    <tr>\n",
       "      <th>39</th>\n",
       "      <td>NaN</td>\n",
       "      <td>NaN</td>\n",
       "      <td>NaN</td>\n",
       "      <td>NaN</td>\n",
       "      <td>NaN</td>\n",
       "      <td>NaN</td>\n",
       "      <td>NaN</td>\n",
       "      <td>NaN</td>\n",
       "      <td>NaN</td>\n",
       "      <td>79.6</td>\n",
       "    </tr>\n",
       "  </tbody>\n",
       "</table>\n",
       "</div>"
      ],
      "text/plain": [
       "        Description 1-1  Sensor 1-1  Sensor 1-2  Sensor 1-3  Sensor 2-1  \\\n",
       "0   2022-12-07 13:43:24        55.0        65.6        56.2        60.6   \n",
       "1   2022-12-07 13:41:24        53.9        65.0        62.1        70.0   \n",
       "2   2022-12-07 13:39:24        65.3        71.1        63.7        83.5   \n",
       "3   2022-12-07 13:37:24        65.5        72.5        65.0        82.7   \n",
       "4   2022-12-07 13:35:24        60.8        67.6        56.8        76.1   \n",
       "5   2022-12-07 13:33:24        64.8        73.5        77.1        77.6   \n",
       "6   2022-12-07 13:31:24        64.6        72.5        69.0        81.4   \n",
       "7   2022-12-07 13:29:24        52.0        61.9        52.0        69.3   \n",
       "8   2022-12-07 13:27:24        61.1        71.9        73.5        75.3   \n",
       "9   2022-12-07 13:25:24        58.5        68.2        61.7        76.8   \n",
       "10  2022-12-07 13:23:24        58.8        70.0        66.2        76.5   \n",
       "11  2022-12-07 13:21:24        58.8        68.2        63.5        74.4   \n",
       "12  2022-12-07 13:19:24        60.0        69.0        61.1        74.4   \n",
       "13  2022-12-07 13:17:24        59.4        68.8        63.5        75.3   \n",
       "14  2022-12-07 13:15:24        60.0        71.9        70.6        73.7   \n",
       "15  2022-12-07 13:13:24        59.2        68.6        62.5        76.3   \n",
       "16  2022-12-07 13:11:24        59.4        68.2        56.4        76.1   \n",
       "17  2022-12-07 13:09:24        56.5        68.6        59.5        75.1   \n",
       "18  2022-12-07 13:07:24        64.0        73.1        71.5        75.6   \n",
       "19  2022-12-07 13:05:24        60.9        71.1        73.1        77.2   \n",
       "20                  NaN         NaN         NaN         NaN         NaN   \n",
       "21                  NaN         NaN         NaN         NaN         NaN   \n",
       "22                  NaN         NaN         NaN         NaN         NaN   \n",
       "23                  NaN         NaN         NaN         NaN         NaN   \n",
       "24                  NaN         NaN         NaN         NaN         NaN   \n",
       "25                  NaN         NaN         NaN         NaN         NaN   \n",
       "26                  NaN         NaN         NaN         NaN         NaN   \n",
       "27                  NaN         NaN         NaN         NaN         NaN   \n",
       "28                  NaN         NaN         NaN         NaN         NaN   \n",
       "29                  NaN         NaN         NaN         NaN         NaN   \n",
       "30                  NaN         NaN         NaN         NaN         NaN   \n",
       "31                  NaN         NaN         NaN         NaN         NaN   \n",
       "32                  NaN         NaN         NaN         NaN         NaN   \n",
       "33                  NaN         NaN         NaN         NaN         NaN   \n",
       "34                  NaN         NaN         NaN         NaN         NaN   \n",
       "35                  NaN         NaN         NaN         NaN         NaN   \n",
       "36                  NaN         NaN         NaN         NaN         NaN   \n",
       "37                  NaN         NaN         NaN         NaN         NaN   \n",
       "38                  NaN         NaN         NaN         NaN         NaN   \n",
       "39                  NaN         NaN         NaN         NaN         NaN   \n",
       "\n",
       "    Sensor 2-2  Sensor 2-3  Sensor 3-1  Sensor 3-2  Sensor 2-3  \n",
       "0         57.1        59.8        48.5        58.4         NaN  \n",
       "1         72.3        70.3        49.4        61.0         NaN  \n",
       "2         91.5        84.3        52.8        61.9         NaN  \n",
       "3         88.8        83.7        53.0        62.1         NaN  \n",
       "4         77.9        74.2        56.8        71.1         NaN  \n",
       "5         80.8        77.3        38.1        50.6         NaN  \n",
       "6         85.2        81.2        74.4        61.9         NaN  \n",
       "7         67.4        67.7        56.4        61.0         NaN  \n",
       "8         76.3        77.1        63.4        62.9         NaN  \n",
       "9         77.2        75.7        48.7        59.0         NaN  \n",
       "10        77.4        76.1        50.1        60.8         NaN  \n",
       "11        76.7        75.9        44.6        55.7         NaN  \n",
       "12        79.9        75.5        48.5        60.6         NaN  \n",
       "13        79.2        75.2        46.7        56.7         NaN  \n",
       "14        76.7        74.0        47.8        60.0         NaN  \n",
       "15        78.3        76.4        54.1        59.4         NaN  \n",
       "16        77.9        74.4        48.7        63.7         NaN  \n",
       "17        75.8        73.3        52.1        61.9         NaN  \n",
       "18        80.8        75.0        48.5        58.2         NaN  \n",
       "19        82.1        76.4        47.8        60.4         NaN  \n",
       "20         NaN         NaN         NaN         NaN        77.3  \n",
       "21         NaN         NaN         NaN         NaN        76.1  \n",
       "22         NaN         NaN         NaN         NaN        74.7  \n",
       "23         NaN         NaN         NaN         NaN        74.7  \n",
       "24         NaN         NaN         NaN         NaN        72.8  \n",
       "25         NaN         NaN         NaN         NaN        73.0  \n",
       "26         NaN         NaN         NaN         NaN        75.2  \n",
       "27         NaN         NaN         NaN         NaN        75.0  \n",
       "28         NaN         NaN         NaN         NaN        73.0  \n",
       "29         NaN         NaN         NaN         NaN        75.2  \n",
       "30         NaN         NaN         NaN         NaN        76.1  \n",
       "31         NaN         NaN         NaN         NaN        76.7  \n",
       "32         NaN         NaN         NaN         NaN        75.7  \n",
       "33         NaN         NaN         NaN         NaN        75.4  \n",
       "34         NaN         NaN         NaN         NaN        77.8  \n",
       "35         NaN         NaN         NaN         NaN        75.9  \n",
       "36         NaN         NaN         NaN         NaN        77.8  \n",
       "37         NaN         NaN         NaN         NaN        77.4  \n",
       "38         NaN         NaN         NaN         NaN        77.3  \n",
       "39         NaN         NaN         NaN         NaN        79.6  "
      ]
     },
     "execution_count": 2,
     "metadata": {},
     "output_type": "execute_result"
    }
   ],
   "source": [
    "import requests\n",
    "import numpy as np\n",
    "import pandas as pd\n",
    "\n",
    "url = 'https://api.smartfarmingunpad.com'\n",
    "hed = 'X-DEVACCOUNT-TOKEN'\n",
    "token = 'banknJS8Qc0B3TL6vUBxL6GTkfLjBn5PIzlA9mIsGTiDPN66gpeWsXNStN8hQifepB7mFpJdjhFUL1gtEck56qOhhB8PAOOLFMVC8XGMvhHCYYux7nmpsC3yUTpJc1Wc'\n",
    "headers = {\n",
    "    hed : token\n",
    "}\n",
    "\n",
    "data = {\n",
    "    'email':'smartfarmingunpad@gmail.com',\n",
    "    'password':'smartfarmingunpad1199'\n",
    "}\n",
    "\n",
    "database_id = ['63845df6e303f4563a77463a',\n",
    " '63845e26e303f4563a77463b',\n",
    " '63845e3de303f4563a77463c']\n",
    "\n",
    "dev_id = ['XniD6mBlnKqagRJ8qD9WhR6JGK4yle1d',\n",
    " '77blNV5jpXZ5X7RhhQGsmJUWOF3f4tY8',\n",
    " 'jCfbt3Hng2ecBdI3hL8rzynb9LDvyzjJ']\n",
    "\n",
    "data_11 = []\n",
    "data_12 = []\n",
    "data_13 = []\n",
    "data_21 = []\n",
    "data_22 = []\n",
    "data_23 = []\n",
    "data_31 = []\n",
    "data_32 = []\n",
    "data_33 = []\n",
    "\n",
    "desc_11 = []\n",
    "desc_12 = []\n",
    "desc_13 = []\n",
    "desc_21 = []\n",
    "desc_22 = []\n",
    "desc_23 = []\n",
    "desc_31 = []\n",
    "desc_32 = []\n",
    "desc_33 = []\n",
    "\n",
    "data_1 = [data_11, data_12, data_13]\n",
    "data_2 = [data_21, data_22, data_23]\n",
    "data_3 = [data_31, data_32, data_33]\n",
    "desc_1 = [desc_11, desc_12, desc_13]\n",
    "desc_2 = [desc_21, desc_22, desc_23]\n",
    "desc_3 = [desc_31, desc_32, desc_33]\n",
    "data = [data_1,data_2,data_3]\n",
    "desc = [desc_1,desc_2,desc_3]\n",
    "\n",
    "for i in range(3):\n",
    "    for j in range(3):\n",
    "        req_value = []\n",
    "        req_desc = []\n",
    "        req = requests.get(url+\"/developer/dataset/\"+database_id[j]+'/'+dev_id[i], headers = headers)\n",
    "        print('i= '+str(i))\n",
    "        print('j= '+str(j))\n",
    "        for n in range (40):\n",
    "            req_value.append(req.json()[-n-1]['value'])\n",
    "            req_desc.append(req.json()[-n-6]['uploaded'])\n",
    "        data[i][j].append(req_value)\n",
    "        desc[i][j].append(req_desc)\n",
    "        \n",
    "#705        \n",
    "        \n",
    "data_11 = np.array(data_11).flatten()\n",
    "data_12 = np.array(data_12).flatten()\n",
    "data_13 = np.array(data_13).flatten()\n",
    "data_21 = np.array(data_21).flatten()\n",
    "data_22 = np.array(data_22).flatten()\n",
    "data_23 = np.array(data_23).flatten()\n",
    "data_31 = np.array(data_31).flatten()\n",
    "data_32 = np.array(data_32).flatten()\n",
    "data_33 = np.array(data_33).flatten()\n",
    "desc_11 = np.array(desc_11).flatten()\n",
    "desc_12 = np.array(desc_12).flatten()\n",
    "desc_13 = np.array(desc_13).flatten()\n",
    "desc_21 = np.array(desc_21).flatten()\n",
    "desc_22 = np.array(desc_22).flatten()\n",
    "desc_23 = np.array(desc_23).flatten()\n",
    "desc_31 = np.array(desc_31).flatten()\n",
    "desc_32 = np.array(desc_32).flatten()\n",
    "desc_33 = np.array(desc_33).flatten()\n",
    "\n",
    "data_1 = [data_11, data_12, data_13]\n",
    "data_2 = [data_21, data_22, data_23]\n",
    "data_3 = [data_31, data_32, data_33]\n",
    "desc_1 = [desc_11, desc_12, desc_13]\n",
    "desc_2 = [desc_21, desc_22, desc_23]\n",
    "desc_3 = [desc_31, desc_32, desc_33]\n",
    "data = [data_1,data_2,data_3]\n",
    "desc = [desc_1,desc_2,desc_3]\n",
    "\n",
    "for i in range(3):\n",
    "    for j in range(3):\n",
    "        data_val = data[i][j]\n",
    "        descript = desc[i][j]\n",
    "        data_label = 'Sensor '+str(i+1)+'-'+str(j+1)\n",
    "        descript_label = 'Description '+str(i+1)+'-'+str(j+1)\n",
    "        data[i][j] = pd.DataFrame({data_label : data_val})\n",
    "        time_data = pd.DataFrame({descript_label : descript})\n",
    "        time_data = pd.to_datetime(time_data[descript_label])\n",
    "        time_data = time_data + pd.Timedelta(hours = 7)\n",
    "        desc[i][j] = time_data.dt.strftime('%Y-%m-%d %H:%M:%S')\n",
    "        \n",
    "dfs = [desc[0][0][:20],data[0][0][:20], data[0][1][:20], data[0][2][:20], data[1][0][:20], data[1][1][:20], data[1][2][:20], data[2][0][:20], data[2][1][:20], data[1][2][20:40]]\n",
    "df_merged = pd.concat(dfs, join = 'outer', axis = 1)\n",
    "#df_merged.to_csv(\"C:/Rizky/Tugas Akhir/Data/SM_27_11.csv\", index = False)\n",
    "df_merged"
   ]
  },
  {
   "cell_type": "code",
   "execution_count": null,
   "metadata": {
    "ExecuteTime": {
     "end_time": "2022-12-07T06:31:12.857179Z",
     "start_time": "2022-12-07T06:31:12.843915Z"
    }
   },
   "outputs": [],
   "source": [
    "data[1][2][20:40]"
   ]
  },
  {
   "cell_type": "code",
   "execution_count": null,
   "metadata": {
    "ExecuteTime": {
     "end_time": "2022-12-06T18:31:41.659923Z",
     "start_time": "2022-12-06T18:31:41.653735Z"
    }
   },
   "outputs": [],
   "source": []
  },
  {
   "cell_type": "code",
   "execution_count": null,
   "metadata": {
    "ExecuteTime": {
     "end_time": "2022-12-06T18:44:06.063949Z",
     "start_time": "2022-12-06T18:44:06.051100Z"
    }
   },
   "outputs": [],
   "source": [
    "dat1 = []\n",
    "dat2 = []\n",
    "dat3 = []\n",
    "\n",
    "dat = [dat1, dat2, dat3]\n",
    "\n",
    "for i in range(3):\n",
    "    for j in range(10):\n",
    "        dat[i].append(np.round(np.mean([data[i][0][j],data[i][1][j], data[i][2][j]])))\n",
    "        "
   ]
  },
  {
   "cell_type": "code",
   "execution_count": null,
   "metadata": {
    "ExecuteTime": {
     "end_time": "2022-12-06T18:31:21.891681Z",
     "start_time": "2022-12-06T18:31:21.877483Z"
    }
   },
   "outputs": [],
   "source": [
    "dat1"
   ]
  },
  {
   "cell_type": "code",
   "execution_count": null,
   "metadata": {
    "ExecuteTime": {
     "end_time": "2022-12-06T18:31:26.900571Z",
     "start_time": "2022-12-06T18:31:26.882139Z"
    }
   },
   "outputs": [],
   "source": [
    "dat2"
   ]
  },
  {
   "cell_type": "code",
   "execution_count": null,
   "metadata": {
    "ExecuteTime": {
     "end_time": "2022-12-06T18:31:29.439351Z",
     "start_time": "2022-12-06T18:31:29.434353Z"
    }
   },
   "outputs": [],
   "source": [
    "dat3"
   ]
  },
  {
   "cell_type": "code",
   "execution_count": null,
   "metadata": {
    "ExecuteTime": {
     "end_time": "2022-12-06T18:44:06.079049Z",
     "start_time": "2022-12-06T18:44:06.065981Z"
    }
   },
   "outputs": [],
   "source": [
    "dat1 = pd.DataFrame({'Bed 1' : dat1})\n",
    "des1 = pd.DataFrame({'Description 1' : desc[0][0]})\n",
    "dat2 = pd.DataFrame({'Bed 2' : dat2})\n",
    "des2 = pd.DataFrame({'Description 2' : desc[1][0]})\n",
    "dat3 = pd.DataFrame({'Bed 3' : dat3})\n",
    "des3 = pd.DataFrame({'Description 3' : desc[2][0]})"
   ]
  },
  {
   "cell_type": "code",
   "execution_count": null,
   "metadata": {
    "ExecuteTime": {
     "end_time": "2022-12-06T18:44:06.094333Z",
     "start_time": "2022-12-06T18:44:06.082074Z"
    }
   },
   "outputs": [],
   "source": [
    "\n",
    "dat1 = pd.DataFrame({'Bed 1' : dat1})\n",
    "des1 = pd.DataFrame({'Description 1' : desc[0][0]})\n",
    "dat2 = pd.DataFrame({'Bed 2' : dat2})\n",
    "des2 = pd.DataFrame({'Description 2' : desc[1][0]})\n",
    "dat3 = pd.DataFrame({'Bed 3' : dat3})\n",
    "des3 = pd.DataFrame({'Description 3' : desc[2][0]})\n",
    "\n",
    "des1 = pd.to_datetime(des1['Description 1']) + pd.Timedelta(hours = 7)\n",
    "des1 = des1.dt.strftime('%Y-%m-%d %H:%M:%S')\n",
    "des2 = pd.to_datetime(des2['Description 2']) + pd.Timedelta(hours = 7)\n",
    "des2 = des2.dt.strftime('%Y-%m-%d %H:%M:%S')\n",
    "des3 = pd.to_datetime(des3['Description 3']) + pd.Timedelta(hours = 7)\n",
    "des3 = des3.dt.strftime('%Y-%m-%d %H:%M:%S')"
   ]
  },
  {
   "cell_type": "code",
   "execution_count": null,
   "metadata": {
    "ExecuteTime": {
     "end_time": "2022-12-06T18:44:31.533535Z",
     "start_time": "2022-12-06T18:44:31.517301Z"
    }
   },
   "outputs": [],
   "source": [
    "dfs = [dat1, des1, dat2, des2, dat3, des3]"
   ]
  },
  {
   "cell_type": "code",
   "execution_count": null,
   "metadata": {
    "ExecuteTime": {
     "end_time": "2022-12-06T18:44:32.120122Z",
     "start_time": "2022-12-06T18:44:32.102657Z"
    }
   },
   "outputs": [],
   "source": [
    "dfs = [dat1, des1, dat2, des2, dat3, des3]\n",
    "df_merged = pd.concat(dfs, join = 'outer', axis = 1)"
   ]
  },
  {
   "cell_type": "code",
   "execution_count": null,
   "metadata": {
    "ExecuteTime": {
     "end_time": "2022-12-06T18:45:59.508344Z",
     "start_time": "2022-12-06T18:45:59.491210Z"
    }
   },
   "outputs": [],
   "source": [
    "df_merged"
   ]
  },
  {
   "cell_type": "code",
   "execution_count": 18,
   "metadata": {
    "ExecuteTime": {
     "end_time": "2022-12-07T10:34:20.748339Z",
     "start_time": "2022-12-07T10:34:20.706209Z"
    }
   },
   "outputs": [],
   "source": [
    "df_merged.to_excel(\"/Rizky/Tugas Akhir/Kodingan/DataQ-Learning/Data Soil.xlsx\")"
   ]
  },
  {
   "cell_type": "code",
   "execution_count": null,
   "metadata": {
    "ExecuteTime": {
     "end_time": "2022-11-29T11:40:36.517817Z",
     "start_time": "2022-11-29T11:40:36.505736Z"
    }
   },
   "outputs": [],
   "source": [
    "database_id = ['63845df6e303f4563a77463a',\n",
    " '63845e26e303f4563a77463b',\n",
    " '63845e3de303f4563a77463c']\n",
    "\n",
    "dev_id = ['77blNV5jpXZ5X7RhhQGsmJUWOF3f4tY8',\n",
    " 'jCfbt3Hng2ecBdI3hL8rzynb9LDvyzjJ',\n",
    " 'fPMkkgECQndBCs7eFtha09uy57Qv8Xks']"
   ]
  },
  {
   "cell_type": "code",
   "execution_count": null,
   "metadata": {
    "ExecuteTime": {
     "end_time": "2022-11-29T11:40:44.291888Z",
     "start_time": "2022-11-29T11:40:43.545312Z"
    }
   },
   "outputs": [],
   "source": [
    "req = requests.get(url+\"/developer/dataset/\"+database_id[0]+'/'+dev_id[0], headers = headers)"
   ]
  },
  {
   "cell_type": "code",
   "execution_count": null,
   "metadata": {
    "ExecuteTime": {
     "end_time": "2022-11-29T11:43:07.968857Z",
     "start_time": "2022-11-29T11:43:07.959070Z"
    }
   },
   "outputs": [],
   "source": [
    "req.json()"
   ]
  },
  {
   "cell_type": "code",
   "execution_count": null,
   "metadata": {
    "ExecuteTime": {
     "end_time": "2022-11-30T13:10:54.795601Z",
     "start_time": "2022-11-30T13:10:54.731927Z"
    }
   },
   "outputs": [],
   "source": [
    "import random"
   ]
  },
  {
   "cell_type": "code",
   "execution_count": null,
   "metadata": {
    "ExecuteTime": {
     "end_time": "2022-11-30T13:11:19.959787Z",
     "start_time": "2022-11-30T13:11:19.942975Z"
    }
   },
   "outputs": [],
   "source": [
    "res = random.sample(range(1, 50), 20)"
   ]
  },
  {
   "cell_type": "code",
   "execution_count": null,
   "metadata": {
    "ExecuteTime": {
     "end_time": "2022-11-30T13:11:55.871892Z",
     "start_time": "2022-11-30T13:11:55.859371Z"
    }
   },
   "outputs": [],
   "source": [
    "res"
   ]
  },
  {
   "cell_type": "code",
   "execution_count": null,
   "metadata": {
    "ExecuteTime": {
     "end_time": "2022-11-30T13:12:04.478636Z",
     "start_time": "2022-11-30T13:12:04.442231Z"
    }
   },
   "outputs": [],
   "source": [
    "len(res)"
   ]
  },
  {
   "cell_type": "code",
   "execution_count": null,
   "metadata": {
    "ExecuteTime": {
     "end_time": "2022-11-30T13:21:02.713051Z",
     "start_time": "2022-11-30T13:21:02.695971Z"
    }
   },
   "outputs": [],
   "source": [
    "i = 0\n",
    "while i < len(res):\n",
    "    if res[i]<20:\n",
    "        print(res[i])\n",
    "\n",
    "    i = i+2"
   ]
  },
  {
   "cell_type": "code",
   "execution_count": null,
   "metadata": {
    "ExecuteTime": {
     "end_time": "2022-11-30T13:15:01.128416Z",
     "start_time": "2022-11-30T13:15:01.113004Z"
    }
   },
   "outputs": [],
   "source": [
    "a = 5"
   ]
  },
  {
   "cell_type": "code",
   "execution_count": null,
   "metadata": {
    "ExecuteTime": {
     "end_time": "2022-11-30T13:19:43.067674Z",
     "start_time": "2022-11-30T13:19:43.054271Z"
    }
   },
   "outputs": [],
   "source": [
    "a == 5"
   ]
  },
  {
   "cell_type": "code",
   "execution_count": 15,
   "metadata": {
    "ExecuteTime": {
     "end_time": "2022-12-07T10:30:43.285730Z",
     "start_time": "2022-12-07T10:30:13.243381Z"
    }
   },
   "outputs": [
    {
     "name": "stdout",
     "output_type": "stream",
     "text": [
      "i= 0\n",
      "j= 0\n",
      "i= 0\n",
      "j= 1\n",
      "i= 0\n",
      "j= 2\n",
      "i= 1\n",
      "j= 0\n",
      "i= 1\n",
      "j= 1\n",
      "i= 1\n",
      "j= 2\n",
      "i= 2\n",
      "j= 0\n",
      "i= 2\n",
      "j= 1\n",
      "i= 2\n",
      "j= 2\n"
     ]
    },
    {
     "data": {
      "text/html": [
       "<div>\n",
       "<style scoped>\n",
       "    .dataframe tbody tr th:only-of-type {\n",
       "        vertical-align: middle;\n",
       "    }\n",
       "\n",
       "    .dataframe tbody tr th {\n",
       "        vertical-align: top;\n",
       "    }\n",
       "\n",
       "    .dataframe thead th {\n",
       "        text-align: right;\n",
       "    }\n",
       "</style>\n",
       "<table border=\"1\" class=\"dataframe\">\n",
       "  <thead>\n",
       "    <tr style=\"text-align: right;\">\n",
       "      <th></th>\n",
       "      <th>Bed 1</th>\n",
       "      <th>Description 1</th>\n",
       "      <th>Bed 2</th>\n",
       "      <th>Description 2</th>\n",
       "      <th>Bed 3</th>\n",
       "      <th>Description 3</th>\n",
       "    </tr>\n",
       "  </thead>\n",
       "  <tbody>\n",
       "    <tr>\n",
       "      <th>0</th>\n",
       "      <td>65.0</td>\n",
       "      <td>2022-12-07 14:09</td>\n",
       "      <td>65.0</td>\n",
       "      <td>2022-12-07 14:09</td>\n",
       "      <td>72.0</td>\n",
       "      <td>2022-12-07 14:09</td>\n",
       "    </tr>\n",
       "    <tr>\n",
       "      <th>1</th>\n",
       "      <td>58.0</td>\n",
       "      <td>2022-12-07 14:07</td>\n",
       "      <td>58.0</td>\n",
       "      <td>2022-12-07 14:07</td>\n",
       "      <td>64.0</td>\n",
       "      <td>2022-12-07 14:07</td>\n",
       "    </tr>\n",
       "    <tr>\n",
       "      <th>2</th>\n",
       "      <td>66.0</td>\n",
       "      <td>2022-12-07 14:05</td>\n",
       "      <td>66.0</td>\n",
       "      <td>2022-12-07 14:05</td>\n",
       "      <td>71.0</td>\n",
       "      <td>2022-12-07 14:05</td>\n",
       "    </tr>\n",
       "    <tr>\n",
       "      <th>3</th>\n",
       "      <td>69.0</td>\n",
       "      <td>2022-12-07 14:03</td>\n",
       "      <td>69.0</td>\n",
       "      <td>2022-12-07 14:03</td>\n",
       "      <td>73.0</td>\n",
       "      <td>2022-12-07 14:03</td>\n",
       "    </tr>\n",
       "    <tr>\n",
       "      <th>4</th>\n",
       "      <td>65.0</td>\n",
       "      <td>2022-12-07 14:01</td>\n",
       "      <td>65.0</td>\n",
       "      <td>2022-12-07 14:01</td>\n",
       "      <td>74.0</td>\n",
       "      <td>2022-12-07 14:01</td>\n",
       "    </tr>\n",
       "    <tr>\n",
       "      <th>...</th>\n",
       "      <td>...</td>\n",
       "      <td>...</td>\n",
       "      <td>...</td>\n",
       "      <td>...</td>\n",
       "      <td>...</td>\n",
       "      <td>...</td>\n",
       "    </tr>\n",
       "    <tr>\n",
       "      <th>95</th>\n",
       "      <td>69.0</td>\n",
       "      <td>2022-12-07 10:59</td>\n",
       "      <td>69.0</td>\n",
       "      <td>2022-12-07 10:59</td>\n",
       "      <td>74.0</td>\n",
       "      <td>2022-12-07 10:59</td>\n",
       "    </tr>\n",
       "    <tr>\n",
       "      <th>96</th>\n",
       "      <td>66.0</td>\n",
       "      <td>2022-12-07 10:57</td>\n",
       "      <td>66.0</td>\n",
       "      <td>2022-12-07 10:57</td>\n",
       "      <td>74.0</td>\n",
       "      <td>2022-12-07 10:57</td>\n",
       "    </tr>\n",
       "    <tr>\n",
       "      <th>97</th>\n",
       "      <td>69.0</td>\n",
       "      <td>2022-12-07 10:55</td>\n",
       "      <td>69.0</td>\n",
       "      <td>2022-12-07 10:55</td>\n",
       "      <td>73.0</td>\n",
       "      <td>2022-12-07 10:55</td>\n",
       "    </tr>\n",
       "    <tr>\n",
       "      <th>98</th>\n",
       "      <td>62.0</td>\n",
       "      <td>2022-12-07 10:53</td>\n",
       "      <td>62.0</td>\n",
       "      <td>2022-12-07 10:53</td>\n",
       "      <td>72.0</td>\n",
       "      <td>2022-12-07 10:53</td>\n",
       "    </tr>\n",
       "    <tr>\n",
       "      <th>99</th>\n",
       "      <td>62.0</td>\n",
       "      <td>2022-12-07 10:51</td>\n",
       "      <td>62.0</td>\n",
       "      <td>2022-12-07 10:51</td>\n",
       "      <td>71.0</td>\n",
       "      <td>2022-12-07 10:51</td>\n",
       "    </tr>\n",
       "  </tbody>\n",
       "</table>\n",
       "<p>100 rows × 6 columns</p>\n",
       "</div>"
      ],
      "text/plain": [
       "    Bed 1     Description 1  Bed 2     Description 2  Bed 3     Description 3\n",
       "0    65.0  2022-12-07 14:09   65.0  2022-12-07 14:09   72.0  2022-12-07 14:09\n",
       "1    58.0  2022-12-07 14:07   58.0  2022-12-07 14:07   64.0  2022-12-07 14:07\n",
       "2    66.0  2022-12-07 14:05   66.0  2022-12-07 14:05   71.0  2022-12-07 14:05\n",
       "3    69.0  2022-12-07 14:03   69.0  2022-12-07 14:03   73.0  2022-12-07 14:03\n",
       "4    65.0  2022-12-07 14:01   65.0  2022-12-07 14:01   74.0  2022-12-07 14:01\n",
       "..    ...               ...    ...               ...    ...               ...\n",
       "95   69.0  2022-12-07 10:59   69.0  2022-12-07 10:59   74.0  2022-12-07 10:59\n",
       "96   66.0  2022-12-07 10:57   66.0  2022-12-07 10:57   74.0  2022-12-07 10:57\n",
       "97   69.0  2022-12-07 10:55   69.0  2022-12-07 10:55   73.0  2022-12-07 10:55\n",
       "98   62.0  2022-12-07 10:53   62.0  2022-12-07 10:53   72.0  2022-12-07 10:53\n",
       "99   62.0  2022-12-07 10:51   62.0  2022-12-07 10:51   71.0  2022-12-07 10:51\n",
       "\n",
       "[100 rows x 6 columns]"
      ]
     },
     "execution_count": 15,
     "metadata": {},
     "output_type": "execute_result"
    }
   ],
   "source": [
    "import requests\n",
    "import numpy as np\n",
    "import pandas as pd\n",
    "\n",
    "url = 'https://api.smartfarmingunpad.com'\n",
    "hed = 'X-DEVACCOUNT-TOKEN'\n",
    "token = 'banknJS8Qc0B3TL6vUBxL6GTkfLjBn5PIzlA9mIsGTiDPN66gpeWsXNStN8hQifepB7mFpJdjhFUL1gtEck56qOhhB8PAOOLFMVC8XGMvhHCYYux7nmpsC3yUTpJc1Wc'\n",
    "headers = {\n",
    "    hed : token\n",
    "}\n",
    "\n",
    "data = {\n",
    "    'email':'smartfarmingunpad@gmail.com',\n",
    "    'password':'smartfarmingunpad1199'\n",
    "}\n",
    "\n",
    "database_id = ['63845df6e303f4563a77463a',\n",
    " '63845e26e303f4563a77463b',\n",
    " '63845e3de303f4563a77463c']\n",
    "\n",
    "dev_id = ['XniD6mBlnKqagRJ8qD9WhR6JGK4yle1d',\n",
    " 'XniD6mBlnKqagRJ8qD9WhR6JGK4yle1d',\n",
    " 'Tdr4a4bKp5AzrCe6KGki8bUDF0ynE9l9']\n",
    "\n",
    "data_11 = []\n",
    "data_12 = []\n",
    "data_13 = []\n",
    "data_21 = []\n",
    "data_22 = []\n",
    "data_23 = []\n",
    "data_31 = []\n",
    "data_32 = []\n",
    "data_33 = []\n",
    "\n",
    "desc_11 = []\n",
    "desc_12 = []\n",
    "desc_13 = []\n",
    "desc_21 = []\n",
    "desc_22 = []\n",
    "desc_23 = []\n",
    "desc_31 = []\n",
    "desc_32 = []\n",
    "desc_33 = []\n",
    "\n",
    "data_1 = [data_11, data_12, data_13]\n",
    "data_2 = [data_21, data_22, data_23]\n",
    "data_3 = [data_31, data_32, data_33]\n",
    "desc_1 = [desc_11, desc_12, desc_13]\n",
    "desc_2 = [desc_21, desc_22, desc_23]\n",
    "desc_3 = [desc_31, desc_32, desc_33]\n",
    "data = [data_1,data_2,data_3]\n",
    "desc = [desc_1,desc_2,desc_3]\n",
    "\n",
    "for i in range(3):\n",
    "    for j in range(3):\n",
    "        req_value = []\n",
    "        req_desc = []\n",
    "        req = requests.get(url+\"/developer/dataset/\"+database_id[j]+'/'+dev_id[i], headers = headers)\n",
    "        print('i= '+str(i))\n",
    "        print('j= '+str(j))\n",
    "        for n in range (100):\n",
    "            req_value.append(req.json()[-n-100]['value'])\n",
    "            req_desc.append(req.json()[-n-100]['uploaded'])\n",
    "        data[i][j].append(req_value)\n",
    "        desc[i][j].append(req_desc)\n",
    "        \n",
    "data_11 = np.array(data_11).flatten()\n",
    "data_12 = np.array(data_12).flatten()\n",
    "data_13 = np.array(data_13).flatten()\n",
    "data_21 = np.array(data_21).flatten()\n",
    "data_22 = np.array(data_22).flatten()\n",
    "data_23 = np.array(data_23).flatten()\n",
    "data_31 = np.array(data_31).flatten()\n",
    "data_32 = np.array(data_32).flatten()\n",
    "data_33 = np.array(data_33).flatten()\n",
    "desc_11 = np.array(desc_11).flatten()\n",
    "desc_12 = np.array(desc_12).flatten()\n",
    "desc_13 = np.array(desc_13).flatten()\n",
    "desc_21 = np.array(desc_21).flatten()\n",
    "desc_22 = np.array(desc_22).flatten()\n",
    "desc_23 = np.array(desc_23).flatten()\n",
    "desc_31 = np.array(desc_31).flatten()\n",
    "desc_32 = np.array(desc_32).flatten()\n",
    "desc_33 = np.array(desc_33).flatten()\n",
    "\n",
    "data_1 = [data_11, data_12, data_13]\n",
    "data_2 = [data_21, data_22, data_23]\n",
    "data_3 = [data_31, data_32, data_33]\n",
    "desc_1 = [desc_11, desc_12, desc_13]\n",
    "desc_2 = [desc_21, desc_22, desc_23]\n",
    "desc_3 = [desc_31, desc_32, desc_33]\n",
    "data = [data_1,data_2,data_3]\n",
    "desc = [desc_1,desc_2,desc_3]\n",
    "\n",
    "dat1 = []\n",
    "dat2 = []\n",
    "dat3 = []\n",
    "\n",
    "dat = [dat1, dat2, dat3]\n",
    "\n",
    "for i in range(3):\n",
    "    for j in range(100):\n",
    "        dat[i].append(np.round(np.mean([data[i][0][j],data[i][1][j], data[i][2][j]])))\n",
    "        \n",
    "dat1 = pd.DataFrame({'Bed 1' : dat1})\n",
    "des1 = pd.DataFrame({'Description 1' : desc[0][0]})\n",
    "dat2 = pd.DataFrame({'Bed 2' : dat2})\n",
    "des2 = pd.DataFrame({'Description 2' : desc[1][0]})\n",
    "dat3 = pd.DataFrame({'Bed 3' : dat3})\n",
    "des3 = pd.DataFrame({'Description 3' : desc[2][0]})\n",
    "\n",
    "des1 = pd.to_datetime(des1['Description 1']) + pd.Timedelta(hours = 7)\n",
    "des1 = des1.dt.strftime('%Y-%m-%d %H:%M')\n",
    "des2 = pd.to_datetime(des2['Description 2']) + pd.Timedelta(hours = 7)\n",
    "des2 = des2.dt.strftime('%Y-%m-%d %H:%M')\n",
    "des3 = pd.to_datetime(des3['Description 3']) + pd.Timedelta(hours = 7)\n",
    "des3 = des3.dt.strftime('%Y-%m-%d %H:%M')\n",
    "\n",
    "dfs = [dat1, des1, dat2, des2, dat3, des3]\n",
    "df_merged = pd.concat(dfs, join = 'outer', axis = 1)\n",
    "df_merged"
   ]
  },
  {
   "cell_type": "code",
   "execution_count": 13,
   "metadata": {
    "ExecuteTime": {
     "end_time": "2022-12-07T10:24:19.886824Z",
     "start_time": "2022-12-07T10:24:19.878210Z"
    }
   },
   "outputs": [
    {
     "data": {
      "text/plain": [
       "[[62.5,\n",
       "  61.9,\n",
       "  61.7,\n",
       "  60.8,\n",
       "  63,\n",
       "  64.4,\n",
       "  61.3,\n",
       "  64.8,\n",
       "  60.9,\n",
       "  63,\n",
       "  55,\n",
       "  53.9,\n",
       "  65.3,\n",
       "  65.5,\n",
       "  60.8,\n",
       "  64.8,\n",
       "  64.6,\n",
       "  52,\n",
       "  61.1,\n",
       "  58.5,\n",
       "  58.8,\n",
       "  58.8,\n",
       "  60,\n",
       "  59.4,\n",
       "  60,\n",
       "  59.2,\n",
       "  59.4,\n",
       "  56.5,\n",
       "  64,\n",
       "  60.9,\n",
       "  63.4,\n",
       "  63.8,\n",
       "  62.9,\n",
       "  59.4,\n",
       "  60.9,\n",
       "  63.4,\n",
       "  61.5,\n",
       "  61.7,\n",
       "  58.8,\n",
       "  61.1,\n",
       "  61.3,\n",
       "  62.1,\n",
       "  59.6,\n",
       "  60.6,\n",
       "  62.9,\n",
       "  61.9,\n",
       "  64,\n",
       "  63,\n",
       "  62.3,\n",
       "  62.5,\n",
       "  61.3,\n",
       "  59,\n",
       "  64.2,\n",
       "  63.4,\n",
       "  61.5,\n",
       "  58.3,\n",
       "  62.9,\n",
       "  60.8,\n",
       "  62.9,\n",
       "  60.9,\n",
       "  61.5,\n",
       "  61.9,\n",
       "  63.2,\n",
       "  58.8,\n",
       "  60,\n",
       "  59.6,\n",
       "  58.6,\n",
       "  54.1,\n",
       "  58.3,\n",
       "  57.5,\n",
       "  56.2,\n",
       "  58.5,\n",
       "  55.6,\n",
       "  56.5,\n",
       "  61.7,\n",
       "  61.9,\n",
       "  55.6,\n",
       "  61.3,\n",
       "  62.5,\n",
       "  62.9,\n",
       "  62.1,\n",
       "  64.2,\n",
       "  61.7,\n",
       "  64.8,\n",
       "  58.5,\n",
       "  59.8,\n",
       "  63.4,\n",
       "  61.1,\n",
       "  56.2,\n",
       "  65.2,\n",
       "  61.3,\n",
       "  63.2,\n",
       "  63,\n",
       "  61.5,\n",
       "  62.9,\n",
       "  58.8,\n",
       "  60.2,\n",
       "  63.2,\n",
       "  62.9,\n",
       "  64]]"
      ]
     },
     "execution_count": 13,
     "metadata": {},
     "output_type": "execute_result"
    }
   ],
   "source": [
    "data[0][0][0]"
   ]
  },
  {
   "cell_type": "code",
   "execution_count": null,
   "metadata": {},
   "outputs": [],
   "source": [
    "dat1 = []\n",
    "dat2 = []\n",
    "dat3 = []\n",
    "\n",
    "dat = [dat1, dat2, dat3]\n",
    "\n",
    "for i in range(3):\n",
    "    for j in range(10):\n",
    "        dat[i].append(np.round(np.mean([data[i][0][j],data[i][1][j], data[i][2][j]])))\n",
    "        \n"
   ]
  },
  {
   "cell_type": "code",
   "execution_count": null,
   "metadata": {
    "ExecuteTime": {
     "end_time": "2022-12-07T07:56:58.725585Z",
     "start_time": "2022-12-07T07:56:58.662421Z"
    }
   },
   "outputs": [],
   "source": [
    "bett = [1,4,6,10,63,23]"
   ]
  },
  {
   "cell_type": "code",
   "execution_count": null,
   "metadata": {
    "ExecuteTime": {
     "end_time": "2022-12-07T07:57:06.651810Z",
     "start_time": "2022-12-07T07:57:06.611643Z"
    }
   },
   "outputs": [],
   "source": [
    "find 1 in bett"
   ]
  },
  {
   "cell_type": "code",
   "execution_count": null,
   "metadata": {
    "ExecuteTime": {
     "end_time": "2022-12-07T08:05:46.302967Z",
     "start_time": "2022-12-07T08:05:46.267633Z"
    }
   },
   "outputs": [],
   "source": [
    "bett.index(6)"
   ]
  },
  {
   "cell_type": "code",
   "execution_count": null,
   "metadata": {
    "ExecuteTime": {
     "end_time": "2022-12-07T08:26:56.153598Z",
     "start_time": "2022-12-07T08:26:56.125187Z"
    }
   },
   "outputs": [],
   "source": [
    "import numpy as np\n",
    "np.random.uniform(2,3)"
   ]
  },
  {
   "cell_type": "code",
   "execution_count": null,
   "metadata": {},
   "outputs": [],
   "source": []
  }
 ],
 "metadata": {
  "kernelspec": {
   "display_name": "Python 3 (ipykernel)",
   "language": "python",
   "name": "python3"
  },
  "language_info": {
   "codemirror_mode": {
    "name": "ipython",
    "version": 3
   },
   "file_extension": ".py",
   "mimetype": "text/x-python",
   "name": "python",
   "nbconvert_exporter": "python",
   "pygments_lexer": "ipython3",
   "version": "3.9.7"
  }
 },
 "nbformat": 4,
 "nbformat_minor": 2
}
